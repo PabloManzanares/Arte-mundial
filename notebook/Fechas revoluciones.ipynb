{
 "cells": [
  {
   "cell_type": "markdown",
   "id": "012e7a46",
   "metadata": {},
   "source": [
    "# Obtención fechas revoluciones"
   ]
  },
  {
   "cell_type": "markdown",
   "id": "5f824df9",
   "metadata": {},
   "source": [
    "**En este caso, buscaremos revoluciones importantes a lo largo de la historia y la fecha en la que se produjeron.**"
   ]
  },
  {
   "cell_type": "code",
   "execution_count": 2,
   "id": "541329ee",
   "metadata": {},
   "outputs": [],
   "source": [
    "import pandas as pd\n",
    "import numpy as np\n",
    "import re\n",
    "from bs4 import BeautifulSoup\n",
    "import requests\n",
    "\n",
    "pd.options.display.max_columns = None"
   ]
  },
  {
   "cell_type": "markdown",
   "id": "b52b1fc6",
   "metadata": {},
   "source": [
    "❕ A continuación, se muestra el link sobre el que trabajaremos.\n",
    "\n",
    "📅🤔 En él, a traves de una serie de tablas de wikipedia, scrapearemos los nombres de la revolucion y las fechas. Cabe destacar que las tablas contienen una tercera columna correspondiente a la información de dicha revolución, sin embargo, se ha estimado que en este caso no es de provecho.\n",
    "\n",
    "Por otro lado, al existir diversas tablas dependiendo de la época, tendremos que repetir el mismo proceso para poder obtener la información de todas ellas, variando el índice del soup.find_all de table. De esta forma, lograremos movernops por las distintas tablas disponibles. \n",
    "\n",
    "El proceso seguido es el siguiente:\n",
    "\n",
    "1️⃣  Buscamos las tablas mediante un findall.\n",
    "\n",
    "2️⃣  Variamos el índice de la variable fechas_rev para movernos por las distintas tablas de wikipedia.\n",
    "\n",
    "3️⃣  Creamos un diccionario al que añadir los datos obtenidos.\n",
    "\n",
    "4️⃣  A partir de cada una de las tablas, sabiendo que tienen información del título de la revolución, la fechas y la descripción, aplicamos una longitud de la columna para asegurarnos de que tienen la información de completa. Así, en caso de que sea de tres, es decir, que contenga la información completa, añadimos los datos a nuestro diccionario. \n",
    "\n",
    "5️⃣  Por último, convertimos nuestros datos en un dataframe.\n",
    "\n"
   ]
  },
  {
   "cell_type": "code",
   "execution_count": 3,
   "id": "28b2c87f",
   "metadata": {},
   "outputs": [
    {
     "data": {
      "text/plain": [
       "200"
      ]
     },
     "execution_count": 3,
     "metadata": {},
     "output_type": "execute_result"
    }
   ],
   "source": [
    "url = 'https://es.wikipedia.org/wiki/Revoluci%C3%B3n'\n",
    "html = requests.get(url)\n",
    "soup = BeautifulSoup(html.content, \"html.parser\")\n",
    "html.status_code"
   ]
  },
  {
   "cell_type": "code",
   "execution_count": 4,
   "id": "840de309",
   "metadata": {},
   "outputs": [],
   "source": [
    "fechas_rev = soup.find_all(\"table\")"
   ]
  },
  {
   "cell_type": "code",
   "execution_count": 5,
   "id": "601e1435",
   "metadata": {},
   "outputs": [],
   "source": [
    "fechas_revolucion_tab1 = fechas_rev[0]"
   ]
  },
  {
   "cell_type": "code",
   "execution_count": 6,
   "id": "893cd52b",
   "metadata": {},
   "outputs": [],
   "source": [
    "rev_dic_tab1 = {\"revolucion\": [], \n",
    "               \"fecha\": []}"
   ]
  },
  {
   "cell_type": "code",
   "execution_count": 7,
   "id": "adc36470",
   "metadata": {},
   "outputs": [],
   "source": [
    "for i in fechas_revolucion_tab1.find_all(\"tr\")[3:]:\n",
    "    columna = [elemento for elemento in i.find_all(\"td\")]\n",
    "    if len(columna) == 3:\n",
    "        try:\n",
    "            rev_dic_tab1[\"revolucion\"].append(columna[0].find(\"a\").get('title'))\n",
    "            rev_dic_tab1[\"fecha\"].append(columna[1].find('a').get('title'))\n",
    "                   \n",
    "        except:\n",
    "            rev_dic_tab1[\"revolucion\"].append('No info')\n",
    "            rev_dic_tab1[\"fecha\"].append('No info')"
   ]
  },
  {
   "cell_type": "code",
   "execution_count": 8,
   "id": "6c9756e3",
   "metadata": {
    "scrolled": true
   },
   "outputs": [
    {
     "data": {
      "text/html": [
       "<div>\n",
       "<style scoped>\n",
       "    .dataframe tbody tr th:only-of-type {\n",
       "        vertical-align: middle;\n",
       "    }\n",
       "\n",
       "    .dataframe tbody tr th {\n",
       "        vertical-align: top;\n",
       "    }\n",
       "\n",
       "    .dataframe thead th {\n",
       "        text-align: right;\n",
       "    }\n",
       "</style>\n",
       "<table border=\"1\" class=\"dataframe\">\n",
       "  <thead>\n",
       "    <tr style=\"text-align: right;\">\n",
       "      <th></th>\n",
       "      <th>revolucion</th>\n",
       "      <th>fecha</th>\n",
       "    </tr>\n",
       "  </thead>\n",
       "  <tbody>\n",
       "    <tr>\n",
       "      <th>0</th>\n",
       "      <td>Guerra de los Ochenta Años</td>\n",
       "      <td>1568</td>\n",
       "    </tr>\n",
       "    <tr>\n",
       "      <th>1</th>\n",
       "      <td>Revolución inglesa</td>\n",
       "      <td>1642</td>\n",
       "    </tr>\n",
       "  </tbody>\n",
       "</table>\n",
       "</div>"
      ],
      "text/plain": [
       "                   revolucion fecha\n",
       "0  Guerra de los Ochenta Años  1568\n",
       "1          Revolución inglesa  1642"
      ]
     },
     "execution_count": 8,
     "metadata": {},
     "output_type": "execute_result"
    }
   ],
   "source": [
    "revoluciones_tab1 = pd.DataFrame(rev_dic_tab1)\n",
    "revoluciones_tab1.head(2)"
   ]
  },
  {
   "cell_type": "markdown",
   "id": "9a98093b",
   "metadata": {},
   "source": [
    "🔁"
   ]
  },
  {
   "cell_type": "code",
   "execution_count": 9,
   "id": "2ee7361a",
   "metadata": {},
   "outputs": [],
   "source": [
    "fechas_revolucion_tab2 = fechas_rev[1]"
   ]
  },
  {
   "cell_type": "code",
   "execution_count": 10,
   "id": "f0a5600c",
   "metadata": {},
   "outputs": [],
   "source": [
    "rev_dic_tab2 = {\"revolucion\": [], \n",
    "               \"fecha\": []}"
   ]
  },
  {
   "cell_type": "code",
   "execution_count": 11,
   "id": "5fe18968",
   "metadata": {},
   "outputs": [],
   "source": [
    "for i in fechas_revolucion_tab2.find_all(\"tr\"):\n",
    "    columna = [elemento for elemento in i.find_all(\"td\")]\n",
    "    if len(columna) == 3:\n",
    "        try:\n",
    "            rev_dic_tab2[\"revolucion\"].append(columna[0].find(\"a\").get('title'))\n",
    "            rev_dic_tab2[\"fecha\"].append(columna[1].find('a').get('title'))\n",
    "                   \n",
    "        except:\n",
    "            rev_dic_tab2[\"revolucion\"].append('No info')\n",
    "            rev_dic_tab2[\"fecha\"].append('No info')"
   ]
  },
  {
   "cell_type": "code",
   "execution_count": 12,
   "id": "fda360ec",
   "metadata": {},
   "outputs": [
    {
     "data": {
      "text/html": [
       "<div>\n",
       "<style scoped>\n",
       "    .dataframe tbody tr th:only-of-type {\n",
       "        vertical-align: middle;\n",
       "    }\n",
       "\n",
       "    .dataframe tbody tr th {\n",
       "        vertical-align: top;\n",
       "    }\n",
       "\n",
       "    .dataframe thead th {\n",
       "        text-align: right;\n",
       "    }\n",
       "</style>\n",
       "<table border=\"1\" class=\"dataframe\">\n",
       "  <thead>\n",
       "    <tr style=\"text-align: right;\">\n",
       "      <th></th>\n",
       "      <th>revolucion</th>\n",
       "      <th>fecha</th>\n",
       "    </tr>\n",
       "  </thead>\n",
       "  <tbody>\n",
       "    <tr>\n",
       "      <th>0</th>\n",
       "      <td>Revolución rusa de 1905</td>\n",
       "      <td>1905</td>\n",
       "    </tr>\n",
       "    <tr>\n",
       "      <th>1</th>\n",
       "      <td>Revolución mexicana</td>\n",
       "      <td>1910</td>\n",
       "    </tr>\n",
       "  </tbody>\n",
       "</table>\n",
       "</div>"
      ],
      "text/plain": [
       "                revolucion fecha\n",
       "0  Revolución rusa de 1905  1905\n",
       "1      Revolución mexicana  1910"
      ]
     },
     "execution_count": 12,
     "metadata": {},
     "output_type": "execute_result"
    }
   ],
   "source": [
    "revoluciones_tab2 = pd.DataFrame(rev_dic_tab2)\n",
    "revoluciones_tab2.head(2)"
   ]
  },
  {
   "cell_type": "markdown",
   "id": "5747a4e5",
   "metadata": {},
   "source": [
    "🔁"
   ]
  },
  {
   "cell_type": "code",
   "execution_count": 13,
   "id": "c70346dd",
   "metadata": {},
   "outputs": [],
   "source": [
    "fechas_revolucion_tab3 = fechas_rev[2]"
   ]
  },
  {
   "cell_type": "code",
   "execution_count": 14,
   "id": "1cd14250",
   "metadata": {},
   "outputs": [],
   "source": [
    "rev_dic_tab3 = {\"revolucion\": [], \n",
    "               \"fecha\": []}"
   ]
  },
  {
   "cell_type": "code",
   "execution_count": 15,
   "id": "313921c2",
   "metadata": {},
   "outputs": [],
   "source": [
    "for i in fechas_revolucion_tab3.find_all(\"tr\")[2:]:\n",
    "    columna = [elemento for elemento in i.find_all(\"td\")]\n",
    "    if len(columna) == 3:\n",
    "        try:\n",
    "            rev_dic_tab3[\"revolucion\"].append(columna[0].find(\"a\").get('title'))\n",
    "            rev_dic_tab3[\"fecha\"].append(columna[1].find('a').get('title'))\n",
    "                   \n",
    "        except:\n",
    "            rev_dic_tab3[\"revolucion\"].append('No info')\n",
    "            rev_dic_tab3[\"fecha\"].append('No info')"
   ]
  },
  {
   "cell_type": "code",
   "execution_count": 16,
   "id": "1bbe65fe",
   "metadata": {},
   "outputs": [
    {
     "data": {
      "text/html": [
       "<div>\n",
       "<style scoped>\n",
       "    .dataframe tbody tr th:only-of-type {\n",
       "        vertical-align: middle;\n",
       "    }\n",
       "\n",
       "    .dataframe tbody tr th {\n",
       "        vertical-align: top;\n",
       "    }\n",
       "\n",
       "    .dataframe thead th {\n",
       "        text-align: right;\n",
       "    }\n",
       "</style>\n",
       "<table border=\"1\" class=\"dataframe\">\n",
       "  <thead>\n",
       "    <tr style=\"text-align: right;\">\n",
       "      <th></th>\n",
       "      <th>revolucion</th>\n",
       "      <th>fecha</th>\n",
       "    </tr>\n",
       "  </thead>\n",
       "  <tbody>\n",
       "    <tr>\n",
       "      <th>0</th>\n",
       "      <td>Comuna de París</td>\n",
       "      <td>1871</td>\n",
       "    </tr>\n",
       "    <tr>\n",
       "      <th>1</th>\n",
       "      <td>Revolución bolchevique</td>\n",
       "      <td>1917</td>\n",
       "    </tr>\n",
       "  </tbody>\n",
       "</table>\n",
       "</div>"
      ],
      "text/plain": [
       "               revolucion fecha\n",
       "0         Comuna de París  1871\n",
       "1  Revolución bolchevique  1917"
      ]
     },
     "execution_count": 16,
     "metadata": {},
     "output_type": "execute_result"
    }
   ],
   "source": [
    "revoluciones_tab3 = pd.DataFrame(rev_dic_tab3)\n",
    "revoluciones_tab3.head(2)"
   ]
  },
  {
   "cell_type": "markdown",
   "id": "4c22f189",
   "metadata": {},
   "source": [
    "🔁"
   ]
  },
  {
   "cell_type": "code",
   "execution_count": 17,
   "id": "39602f3a",
   "metadata": {},
   "outputs": [],
   "source": [
    "fechas_revolucion_tab4 = fechas_rev[3]"
   ]
  },
  {
   "cell_type": "code",
   "execution_count": 18,
   "id": "368cab90",
   "metadata": {},
   "outputs": [],
   "source": [
    "rev_dic_tab4 = {\"revolucion\": [], \n",
    "               \"fecha\": []}"
   ]
  },
  {
   "cell_type": "code",
   "execution_count": 19,
   "id": "3f6d45e8",
   "metadata": {},
   "outputs": [],
   "source": [
    "for i in fechas_revolucion_tab4.find_all(\"tr\"):\n",
    "    columna = [elemento for elemento in i.find_all(\"td\")]\n",
    "    if len(columna) == 3:\n",
    "        try:\n",
    "            rev_dic_tab4[\"revolucion\"].append(columna[0].find(\"a\").get('title'))\n",
    "            rev_dic_tab4[\"fecha\"].append(columna[1].find('a').get('title'))\n",
    "                   \n",
    "        except:\n",
    "            rev_dic_tab4[\"revolucion\"].append('No info')\n",
    "            rev_dic_tab4[\"fecha\"].append('No info')"
   ]
  },
  {
   "cell_type": "code",
   "execution_count": 20,
   "id": "6190ccfa",
   "metadata": {},
   "outputs": [
    {
     "data": {
      "text/html": [
       "<div>\n",
       "<style scoped>\n",
       "    .dataframe tbody tr th:only-of-type {\n",
       "        vertical-align: middle;\n",
       "    }\n",
       "\n",
       "    .dataframe tbody tr th {\n",
       "        vertical-align: top;\n",
       "    }\n",
       "\n",
       "    .dataframe thead th {\n",
       "        text-align: right;\n",
       "    }\n",
       "</style>\n",
       "<table border=\"1\" class=\"dataframe\">\n",
       "  <thead>\n",
       "    <tr style=\"text-align: right;\">\n",
       "      <th></th>\n",
       "      <th>revolucion</th>\n",
       "      <th>fecha</th>\n",
       "    </tr>\n",
       "  </thead>\n",
       "  <tbody>\n",
       "    <tr>\n",
       "      <th>0</th>\n",
       "      <td>Italia fascista</td>\n",
       "      <td>1922</td>\n",
       "    </tr>\n",
       "    <tr>\n",
       "      <th>1</th>\n",
       "      <td>Tercer Reich</td>\n",
       "      <td>1933</td>\n",
       "    </tr>\n",
       "  </tbody>\n",
       "</table>\n",
       "</div>"
      ],
      "text/plain": [
       "        revolucion fecha\n",
       "0  Italia fascista  1922\n",
       "1     Tercer Reich  1933"
      ]
     },
     "execution_count": 20,
     "metadata": {},
     "output_type": "execute_result"
    }
   ],
   "source": [
    "revoluciones_tab4 = pd.DataFrame(rev_dic_tab4)\n",
    "revoluciones_tab4.head(2)"
   ]
  },
  {
   "cell_type": "markdown",
   "id": "c246b7db",
   "metadata": {},
   "source": [
    "🔚🤓 Por último, una vez obtenidos los datos de las distintas tablas, realizamos un concat para obtener como resultado final un único dataframe y lo guardamos."
   ]
  },
  {
   "cell_type": "code",
   "execution_count": 21,
   "id": "f83746b2",
   "metadata": {},
   "outputs": [
    {
     "data": {
      "text/html": [
       "<div>\n",
       "<style scoped>\n",
       "    .dataframe tbody tr th:only-of-type {\n",
       "        vertical-align: middle;\n",
       "    }\n",
       "\n",
       "    .dataframe tbody tr th {\n",
       "        vertical-align: top;\n",
       "    }\n",
       "\n",
       "    .dataframe thead th {\n",
       "        text-align: right;\n",
       "    }\n",
       "</style>\n",
       "<table border=\"1\" class=\"dataframe\">\n",
       "  <thead>\n",
       "    <tr style=\"text-align: right;\">\n",
       "      <th></th>\n",
       "      <th>revolucion</th>\n",
       "      <th>fecha</th>\n",
       "    </tr>\n",
       "  </thead>\n",
       "  <tbody>\n",
       "    <tr>\n",
       "      <th>0</th>\n",
       "      <td>Guerra de los Ochenta Años</td>\n",
       "      <td>1568</td>\n",
       "    </tr>\n",
       "    <tr>\n",
       "      <th>1</th>\n",
       "      <td>Revolución inglesa</td>\n",
       "      <td>1642</td>\n",
       "    </tr>\n",
       "  </tbody>\n",
       "</table>\n",
       "</div>"
      ],
      "text/plain": [
       "                   revolucion fecha\n",
       "0  Guerra de los Ochenta Años  1568\n",
       "1          Revolución inglesa  1642"
      ]
     },
     "execution_count": 21,
     "metadata": {},
     "output_type": "execute_result"
    }
   ],
   "source": [
    "fechas_revoluciones = pd.concat([revoluciones_tab1, revoluciones_tab2, revoluciones_tab3, revoluciones_tab4], \n",
    "                                axis=0, ignore_index = True)\n",
    "fechas_revoluciones.head(2)"
   ]
  },
  {
   "cell_type": "code",
   "execution_count": 22,
   "id": "b88f9b08",
   "metadata": {},
   "outputs": [],
   "source": [
    "fechas_revoluciones.to_csv('../data/fechas_revoluciones.csv')"
   ]
  }
 ],
 "metadata": {
  "kernelspec": {
   "display_name": "Python 3 (ipykernel)",
   "language": "python",
   "name": "python3"
  },
  "language_info": {
   "codemirror_mode": {
    "name": "ipython",
    "version": 3
   },
   "file_extension": ".py",
   "mimetype": "text/x-python",
   "name": "python",
   "nbconvert_exporter": "python",
   "pygments_lexer": "ipython3",
   "version": "3.9.5"
  }
 },
 "nbformat": 4,
 "nbformat_minor": 5
}
