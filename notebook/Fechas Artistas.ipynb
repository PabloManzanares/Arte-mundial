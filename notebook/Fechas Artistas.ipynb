{
 "cells": [
  {
   "cell_type": "code",
   "execution_count": 1,
   "id": "541329ee",
   "metadata": {},
   "outputs": [],
   "source": [
    "import pandas as pd\n",
    "import numpy as np\n",
    "import re\n",
    "from bs4 import BeautifulSoup\n",
    "import requests\n",
    "\n",
    "pd.options.display.max_columns = None"
   ]
  },
  {
   "cell_type": "code",
   "execution_count": 2,
   "id": "474f616c",
   "metadata": {},
   "outputs": [
    {
     "data": {
      "text/html": [
       "<div>\n",
       "<style scoped>\n",
       "    .dataframe tbody tr th:only-of-type {\n",
       "        vertical-align: middle;\n",
       "    }\n",
       "\n",
       "    .dataframe tbody tr th {\n",
       "        vertical-align: top;\n",
       "    }\n",
       "\n",
       "    .dataframe thead th {\n",
       "        text-align: right;\n",
       "    }\n",
       "</style>\n",
       "<table border=\"1\" class=\"dataframe\">\n",
       "  <thead>\n",
       "    <tr style=\"text-align: right;\">\n",
       "      <th></th>\n",
       "      <th>name</th>\n",
       "      <th>years</th>\n",
       "      <th>genre</th>\n",
       "      <th>nationality</th>\n",
       "      <th>bio</th>\n",
       "      <th>wikipedia</th>\n",
       "      <th>paintings</th>\n",
       "    </tr>\n",
       "    <tr>\n",
       "      <th>id</th>\n",
       "      <th></th>\n",
       "      <th></th>\n",
       "      <th></th>\n",
       "      <th></th>\n",
       "      <th></th>\n",
       "      <th></th>\n",
       "      <th></th>\n",
       "    </tr>\n",
       "  </thead>\n",
       "  <tbody>\n",
       "    <tr>\n",
       "      <th>0</th>\n",
       "      <td>Amedeo Modigliani</td>\n",
       "      <td>1884 - 1920</td>\n",
       "      <td>Expressionism</td>\n",
       "      <td>Italian</td>\n",
       "      <td>Amedeo Clemente Modigliani (Italian pronunciat...</td>\n",
       "      <td>http://en.wikipedia.org/wiki/Amedeo_Modigliani</td>\n",
       "      <td>193</td>\n",
       "    </tr>\n",
       "    <tr>\n",
       "      <th>1</th>\n",
       "      <td>Vasiliy Kandinskiy</td>\n",
       "      <td>1866 - 1944</td>\n",
       "      <td>Expressionism,Abstractionism</td>\n",
       "      <td>Russian</td>\n",
       "      <td>Wassily Wassilyevich Kandinsky (Russian: Васи́...</td>\n",
       "      <td>http://en.wikipedia.org/wiki/Wassily_Kandinsky</td>\n",
       "      <td>88</td>\n",
       "    </tr>\n",
       "  </tbody>\n",
       "</table>\n",
       "</div>"
      ],
      "text/plain": [
       "                  name        years                         genre nationality  \\\n",
       "id                                                                              \n",
       "0    Amedeo Modigliani  1884 - 1920                 Expressionism     Italian   \n",
       "1   Vasiliy Kandinskiy  1866 - 1944  Expressionism,Abstractionism     Russian   \n",
       "\n",
       "                                                  bio  \\\n",
       "id                                                      \n",
       "0   Amedeo Clemente Modigliani (Italian pronunciat...   \n",
       "1   Wassily Wassilyevich Kandinsky (Russian: Васи́...   \n",
       "\n",
       "                                         wikipedia  paintings  \n",
       "id                                                             \n",
       "0   http://en.wikipedia.org/wiki/Amedeo_Modigliani        193  \n",
       "1   http://en.wikipedia.org/wiki/Wassily_Kandinsky         88  "
      ]
     },
     "execution_count": 2,
     "metadata": {},
     "output_type": "execute_result"
    }
   ],
   "source": [
    "art = pd.read_csv('../data/artists.csv', index_col = 0)\n",
    "art.head(2)"
   ]
  },
  {
   "cell_type": "code",
   "execution_count": 3,
   "id": "28b2c87f",
   "metadata": {},
   "outputs": [
    {
     "data": {
      "text/plain": [
       "200"
      ]
     },
     "execution_count": 3,
     "metadata": {},
     "output_type": "execute_result"
    }
   ],
   "source": [
    "url = 'https://es.wikipedia.org/wiki/Revoluci%C3%B3n'\n",
    "html = requests.get(url)\n",
    "soup = BeautifulSoup(html.content, \"html.parser\")\n",
    "html.status_code"
   ]
  },
  {
   "cell_type": "code",
   "execution_count": 4,
   "id": "840de309",
   "metadata": {},
   "outputs": [],
   "source": [
    "fechas_rev = soup.find_all(\"table\")"
   ]
  },
  {
   "cell_type": "code",
   "execution_count": 5,
   "id": "601e1435",
   "metadata": {},
   "outputs": [],
   "source": [
    "fechas_revolucion_tab1 = fechas_rev[0]"
   ]
  },
  {
   "cell_type": "code",
   "execution_count": 6,
   "id": "893cd52b",
   "metadata": {},
   "outputs": [],
   "source": [
    "rev_dic_tab1 = {\"revolucion\": [], \n",
    "               \"fecha\": []}"
   ]
  },
  {
   "cell_type": "code",
   "execution_count": 7,
   "id": "adc36470",
   "metadata": {},
   "outputs": [],
   "source": [
    "for i in fechas_revolucion_tab1.find_all(\"tr\")[3:]:\n",
    "    columna = [elemento for elemento in i.find_all(\"td\")]\n",
    "    if len(columna) == 3:\n",
    "        try:\n",
    "            rev_dic_tab1[\"revolucion\"].append(columna[0].find(\"a\").get('title'))\n",
    "            rev_dic_tab1[\"fecha\"].append(columna[1].find('a').get('title'))\n",
    "                   \n",
    "        except:\n",
    "            rev_dic_tab1[\"revolucion\"].append('No info')\n",
    "            rev_dic_tab1[\"fecha\"].append('No info')"
   ]
  },
  {
   "cell_type": "code",
   "execution_count": 8,
   "id": "045c9ee8",
   "metadata": {},
   "outputs": [],
   "source": [
    "revoluciones = ['Guerra de los Ochenta Años', 'Revolución inglesa', 'Revolución gloriosa', 'Ciclo atlántico', \n",
    "                'Guerra de la Independencia de los Estados Unidos', 'No info', 'Revolución francesa', 'No info',\n",
    "                'Independencia de la América Hispana', 'Revolución de mayo', 'Revolución oriental', 'Revolución de 1820',\n",
    "                'Trienio Liberal', 'Revolución liberal de Oporto', 'Guerra de independencia de Grecia', 'Revolución de 1830',\n",
    "                'Monarquía de Julio', 'Revolución belga', 'Revolución de 1848', 'Revolución de Ayutla', 'Revolución de 1868', \n",
    "                'Revolución rusa de 1905', 'Revolución mexicana', 'Revolución de Xinhai', 'Revolución de febrero', \n",
    "                'Revolución de Noviembre', 'Revolución turca (aún no redactado)', 'Comuna de París', 'Revolución bolchevique', \n",
    "                'No info', 'Levantamiento Espartaquista', 'República Soviética Húngara', 'Revolución mongola de 1921', \n",
    "                'Revolución de Asturias de 1934', 'Revolución española de 1936', 'Revolución búlgara', 'Revolución china de 1949', \n",
    "                'Revolución cultural', 'Telón de Acero', 'Historia de Corea del Norte', 'Crisis de los misiles en Cuba', \n",
    "                'Gran Salto Adelante', 'Vietnam del Norte', 'Guerra de Independencia de Argelia', 'Historia de Iraq', 'Revolución cubana',\n",
    "                'Crisis del Congo', 'Yemen del Sur', 'Historia de Libia', 'Historia de Somalia', 'Salvador Allende', 'Historia de Benín', \n",
    "                'Historia de Etiopía', 'Guinea-Bissau', 'Kampuchea Democrática', 'Vietnam del Sur', 'Historia de Laos', 'Didier Ratsiraka',\n",
    "                'Cabo Verde', 'Historia de Mozambique', 'Historia de Angola', 'Revolución de Saur', 'Revolución sandinista', \n",
    "                'Historia de Granada (país)', 'Burkina Faso', 'Italia fascista', 'Tercer Reich', 'Movimiento Nacional', 'Francia de Vichy']\n",
    "\n",
    "años = ['1568', '1642', '1688', '1776', '1776', 'No info', '1789', 'No info', '1808', '1810', '1811', '1820', '1820',\n",
    "        '1820', '1821', '1830', '1830', '1830', '1848', '1854', '1868', '1905', '1910', '1911', '1917', '1918', '1919', \n",
    "        '1871', '1917', 'No info', '1919', '1919', '1921', '1934', '1936', '1944', '1949', '1966', '1945', '1948', \n",
    "        '1962', '1958', '1954', '1954', '1958', '1959', '1960', '1967', '1969', '1969', '1970', '1972', '1974', \n",
    "        '1974', '1975', '1975', '1975', '1975', '1975', '1975', '1975', '1978', '1979', '1979', '1983'\n",
    "       '1922', '1933', '1936', '1940']"
   ]
  },
  {
   "cell_type": "code",
   "execution_count": 9,
   "id": "37c11118",
   "metadata": {},
   "outputs": [],
   "source": [
    "diccionario = {}\n",
    "for i, z in zip(revoluciones, años):\n",
    "    try:\n",
    "        diccionario[i] =  int(z)\n",
    "    except:\n",
    "        diccionario[i] =  z"
   ]
  },
  {
   "cell_type": "code",
   "execution_count": 10,
   "id": "12cf8b0b",
   "metadata": {
    "scrolled": true
   },
   "outputs": [
    {
     "data": {
      "text/plain": [
       "{'Guerra de los Ochenta Años': 1568,\n",
       " 'Revolución inglesa': 1642,\n",
       " 'Revolución gloriosa': 1688,\n",
       " 'Ciclo atlántico': 1776,\n",
       " 'Guerra de la Independencia de los Estados Unidos': 1776,\n",
       " 'No info': 'No info',\n",
       " 'Revolución francesa': 1789,\n",
       " 'Independencia de la América Hispana': 1808,\n",
       " 'Revolución de mayo': 1810,\n",
       " 'Revolución oriental': 1811,\n",
       " 'Revolución de 1820': 1820,\n",
       " 'Trienio Liberal': 1820,\n",
       " 'Revolución liberal de Oporto': 1820,\n",
       " 'Guerra de independencia de Grecia': 1821,\n",
       " 'Revolución de 1830': 1830,\n",
       " 'Monarquía de Julio': 1830,\n",
       " 'Revolución belga': 1830,\n",
       " 'Revolución de 1848': 1848,\n",
       " 'Revolución de Ayutla': 1854,\n",
       " 'Revolución de 1868': 1868,\n",
       " 'Revolución rusa de 1905': 1905,\n",
       " 'Revolución mexicana': 1910,\n",
       " 'Revolución de Xinhai': 1911,\n",
       " 'Revolución de febrero': 1917,\n",
       " 'Revolución de Noviembre': 1918,\n",
       " 'Revolución turca (aún no redactado)': 1919,\n",
       " 'Comuna de París': 1871,\n",
       " 'Revolución bolchevique': 1917,\n",
       " 'Levantamiento Espartaquista': 1919,\n",
       " 'República Soviética Húngara': 1919,\n",
       " 'Revolución mongola de 1921': 1921,\n",
       " 'Revolución de Asturias de 1934': 1934,\n",
       " 'Revolución española de 1936': 1936,\n",
       " 'Revolución búlgara': 1944,\n",
       " 'Revolución china de 1949': 1949,\n",
       " 'Revolución cultural': 1966,\n",
       " 'Telón de Acero': 1945,\n",
       " 'Historia de Corea del Norte': 1948,\n",
       " 'Crisis de los misiles en Cuba': 1962,\n",
       " 'Gran Salto Adelante': 1958,\n",
       " 'Vietnam del Norte': 1954,\n",
       " 'Guerra de Independencia de Argelia': 1954,\n",
       " 'Historia de Iraq': 1958,\n",
       " 'Revolución cubana': 1959,\n",
       " 'Crisis del Congo': 1960,\n",
       " 'Yemen del Sur': 1967,\n",
       " 'Historia de Libia': 1969,\n",
       " 'Historia de Somalia': 1969,\n",
       " 'Salvador Allende': 1970,\n",
       " 'Historia de Benín': 1972,\n",
       " 'Historia de Etiopía': 1974,\n",
       " 'Guinea-Bissau': 1974,\n",
       " 'Kampuchea Democrática': 1975,\n",
       " 'Vietnam del Sur': 1975,\n",
       " 'Historia de Laos': 1975,\n",
       " 'Didier Ratsiraka': 1975,\n",
       " 'Cabo Verde': 1975,\n",
       " 'Historia de Mozambique': 1975,\n",
       " 'Historia de Angola': 1975,\n",
       " 'Revolución de Saur': 1978,\n",
       " 'Revolución sandinista': 1979,\n",
       " 'Historia de Granada (país)': 1979,\n",
       " 'Burkina Faso': 19831922,\n",
       " 'Italia fascista': 1933,\n",
       " 'Tercer Reich': 1936,\n",
       " 'Movimiento Nacional': 1940}"
      ]
     },
     "execution_count": 10,
     "metadata": {},
     "output_type": "execute_result"
    }
   ],
   "source": [
    "diccionario"
   ]
  },
  {
   "cell_type": "code",
   "execution_count": null,
   "id": "430cd3c2",
   "metadata": {},
   "outputs": [],
   "source": [
    "for key, value in rev_dic_tab4.items():\n",
    "    print(value)\n",
    "    "
   ]
  },
  {
   "cell_type": "code",
   "execution_count": null,
   "id": "9645e126",
   "metadata": {},
   "outputs": [],
   "source": [
    "rev_dic_tab1"
   ]
  },
  {
   "cell_type": "code",
   "execution_count": null,
   "id": "6c9756e3",
   "metadata": {
    "scrolled": true
   },
   "outputs": [],
   "source": [
    "revoluciones_tab1 = pd.DataFrame(rev_dic_tab1)\n",
    "revoluciones_tab1.head(2)"
   ]
  },
  {
   "cell_type": "code",
   "execution_count": null,
   "id": "2ee7361a",
   "metadata": {},
   "outputs": [],
   "source": [
    "fechas_revolucion_tab2 = fechas_rev[1]"
   ]
  },
  {
   "cell_type": "code",
   "execution_count": null,
   "id": "f0a5600c",
   "metadata": {},
   "outputs": [],
   "source": [
    "rev_dic_tab2 = {\"revolucion\": [], \n",
    "               \"fecha\": []}"
   ]
  },
  {
   "cell_type": "code",
   "execution_count": null,
   "id": "5fe18968",
   "metadata": {},
   "outputs": [],
   "source": [
    "for i in fechas_revolucion_tab2.find_all(\"tr\"):\n",
    "    columna = [elemento for elemento in i.find_all(\"td\")]\n",
    "    if len(columna) == 3:\n",
    "        try:\n",
    "            rev_dic_tab2[\"revolucion\"].append(columna[0].find(\"a\").get('title'))\n",
    "            rev_dic_tab2[\"fecha\"].append(columna[1].find('a').get('title'))\n",
    "                   \n",
    "        except:\n",
    "            rev_dic_tab2[\"revolucion\"].append('No info')\n",
    "            rev_dic_tab2[\"fecha\"].append('No info')"
   ]
  },
  {
   "cell_type": "code",
   "execution_count": null,
   "id": "fda360ec",
   "metadata": {},
   "outputs": [],
   "source": [
    "revoluciones_tab2 = pd.DataFrame(rev_dic_tab2)\n",
    "revoluciones_tab2.head(2)"
   ]
  },
  {
   "cell_type": "code",
   "execution_count": null,
   "id": "c70346dd",
   "metadata": {},
   "outputs": [],
   "source": [
    "fechas_revolucion_tab3 = fechas_rev[2]"
   ]
  },
  {
   "cell_type": "code",
   "execution_count": null,
   "id": "1cd14250",
   "metadata": {},
   "outputs": [],
   "source": [
    "rev_dic_tab3 = {\"revolucion\": [], \n",
    "               \"fecha\": []}"
   ]
  },
  {
   "cell_type": "code",
   "execution_count": null,
   "id": "313921c2",
   "metadata": {},
   "outputs": [],
   "source": [
    "for i in fechas_revolucion_tab3.find_all(\"tr\")[2:]:\n",
    "    columna = [elemento for elemento in i.find_all(\"td\")]\n",
    "    if len(columna) == 3:\n",
    "        try:\n",
    "            rev_dic_tab3[\"revolucion\"].append(columna[0].find(\"a\").get('title'))\n",
    "            rev_dic_tab3[\"fecha\"].append(columna[1].find('a').get('title'))\n",
    "                   \n",
    "        except:\n",
    "            rev_dic_tab3[\"revolucion\"].append('No info')\n",
    "            rev_dic_tab3[\"fecha\"].append('No info')"
   ]
  },
  {
   "cell_type": "code",
   "execution_count": null,
   "id": "1bbe65fe",
   "metadata": {},
   "outputs": [],
   "source": [
    "revoluciones_tab3 = pd.DataFrame(rev_dic_tab3)\n",
    "revoluciones_tab3.head(2)"
   ]
  },
  {
   "cell_type": "code",
   "execution_count": null,
   "id": "39602f3a",
   "metadata": {},
   "outputs": [],
   "source": [
    "fechas_revolucion_tab4 = fechas_rev[3]"
   ]
  },
  {
   "cell_type": "code",
   "execution_count": null,
   "id": "368cab90",
   "metadata": {},
   "outputs": [],
   "source": [
    "rev_dic_tab4 = {\"revolucion\": [], \n",
    "               \"fecha\": []}"
   ]
  },
  {
   "cell_type": "code",
   "execution_count": null,
   "id": "3f6d45e8",
   "metadata": {},
   "outputs": [],
   "source": [
    "for i in fechas_revolucion_tab4.find_all(\"tr\"):\n",
    "    columna = [elemento for elemento in i.find_all(\"td\")]\n",
    "    if len(columna) == 3:\n",
    "        try:\n",
    "            rev_dic_tab4[\"revolucion\"].append(columna[0].find(\"a\").get('title'))\n",
    "            rev_dic_tab4[\"fecha\"].append(columna[1].find('a').get('title'))\n",
    "                   \n",
    "        except:\n",
    "            rev_dic_tab4[\"revolucion\"].append('No info')\n",
    "            rev_dic_tab4[\"fecha\"].append('No info')"
   ]
  },
  {
   "cell_type": "code",
   "execution_count": null,
   "id": "6190ccfa",
   "metadata": {},
   "outputs": [],
   "source": [
    "revoluciones_tab4 = pd.DataFrame(rev_dic_tab4)\n",
    "revoluciones_tab4.head(2)"
   ]
  },
  {
   "cell_type": "code",
   "execution_count": null,
   "id": "f83746b2",
   "metadata": {},
   "outputs": [],
   "source": [
    "fechas_revoluciones = pd.concat([revoluciones_tab1, revoluciones_tab2, revoluciones_tab3, revoluciones_tab4], \n",
    "                                axis=0, ignore_index = True)\n",
    "fechas_revoluciones.head(2)"
   ]
  },
  {
   "cell_type": "code",
   "execution_count": null,
   "id": "b88f9b08",
   "metadata": {},
   "outputs": [],
   "source": [
    "fechas_revoluciones.to_csv('../data/fechas_revoluciones.csv')"
   ]
  },
  {
   "cell_type": "code",
   "execution_count": null,
   "id": "1a9a50db",
   "metadata": {},
   "outputs": [],
   "source": []
  },
  {
   "cell_type": "code",
   "execution_count": null,
   "id": "bfa24b3a",
   "metadata": {},
   "outputs": [],
   "source": []
  },
  {
   "cell_type": "code",
   "execution_count": null,
   "id": "c94d3db1",
   "metadata": {},
   "outputs": [],
   "source": []
  }
 ],
 "metadata": {
  "kernelspec": {
   "display_name": "Python 3 (ipykernel)",
   "language": "python",
   "name": "python3"
  },
  "language_info": {
   "codemirror_mode": {
    "name": "ipython",
    "version": 3
   },
   "file_extension": ".py",
   "mimetype": "text/x-python",
   "name": "python",
   "nbconvert_exporter": "python",
   "pygments_lexer": "ipython3",
   "version": "3.9.5"
  }
 },
 "nbformat": 4,
 "nbformat_minor": 5
}
