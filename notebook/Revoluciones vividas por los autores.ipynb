{
 "cells": [
  {
   "cell_type": "markdown",
   "id": "b6047315",
   "metadata": {},
   "source": [
    "# Revoluciones vividas por los artistas."
   ]
  },
  {
   "cell_type": "markdown",
   "id": "146038b9",
   "metadata": {},
   "source": [
    "🤔📅 A través de un diccionario creado a partir del jupyter donde se obtenían las fechas de algunas de las revoluciones más importantes de la historia, se comprobará si los artistas del dataframe original vivieron alguna de ellas.\n",
    "\n",
    "Para ello, se realizarán un par de funciones:\n",
    "\n",
    "1️⃣ La primera, obtendra el rango de años de vida del autor a partir de la fecha de nacimiento y fallecimiento.\n",
    "\n",
    "2️⃣ En la segunda, si la fecha de alguna revolución se encuentra dentro del rango obtenido con anterioridad, se añadirá a la información del artista del dataframe original."
   ]
  },
  {
   "cell_type": "code",
   "execution_count": 1,
   "id": "4d62f28f",
   "metadata": {},
   "outputs": [],
   "source": [
    "import pandas as pd\n",
    "import sys\n",
    "sys.path.append('../')\n",
    "\n",
    "import src.diccionarios as rev\n",
    "import src.funcionesrevoluciones as fr\n",
    "\n",
    "\n",
    "pd.options.display.max_columns = None"
   ]
  },
  {
   "cell_type": "code",
   "execution_count": 2,
   "id": "447f546a",
   "metadata": {},
   "outputs": [
    {
     "data": {
      "text/html": [
       "<div>\n",
       "<style scoped>\n",
       "    .dataframe tbody tr th:only-of-type {\n",
       "        vertical-align: middle;\n",
       "    }\n",
       "\n",
       "    .dataframe tbody tr th {\n",
       "        vertical-align: top;\n",
       "    }\n",
       "\n",
       "    .dataframe thead th {\n",
       "        text-align: right;\n",
       "    }\n",
       "</style>\n",
       "<table border=\"1\" class=\"dataframe\">\n",
       "  <thead>\n",
       "    <tr style=\"text-align: right;\">\n",
       "      <th></th>\n",
       "      <th>name</th>\n",
       "      <th>years</th>\n",
       "      <th>genre</th>\n",
       "      <th>nationality</th>\n",
       "      <th>bio</th>\n",
       "      <th>wikipedia</th>\n",
       "      <th>paintings</th>\n",
       "      <th>year_of_birth</th>\n",
       "      <th>year_of_death</th>\n",
       "    </tr>\n",
       "    <tr>\n",
       "      <th>id</th>\n",
       "      <th></th>\n",
       "      <th></th>\n",
       "      <th></th>\n",
       "      <th></th>\n",
       "      <th></th>\n",
       "      <th></th>\n",
       "      <th></th>\n",
       "      <th></th>\n",
       "      <th></th>\n",
       "    </tr>\n",
       "  </thead>\n",
       "  <tbody>\n",
       "    <tr>\n",
       "      <th>0</th>\n",
       "      <td>Amedeo Modigliani</td>\n",
       "      <td>1884 - 1920</td>\n",
       "      <td>Expressionism</td>\n",
       "      <td>Italian</td>\n",
       "      <td>Amedeo Clemente Modigliani  was an Italian Jew...</td>\n",
       "      <td>http://en.wikipedia.org/wiki/Amedeo_Modigliani</td>\n",
       "      <td>193</td>\n",
       "      <td>1884</td>\n",
       "      <td>1920</td>\n",
       "    </tr>\n",
       "    <tr>\n",
       "      <th>1</th>\n",
       "      <td>Vasiliy Kandinskiy</td>\n",
       "      <td>1866 - 1944</td>\n",
       "      <td>Expressionism,Abstractionism</td>\n",
       "      <td>Russian</td>\n",
       "      <td>Wassily Wassilyevich Kandinsky   was a Russian...</td>\n",
       "      <td>http://en.wikipedia.org/wiki/Wassily_Kandinsky</td>\n",
       "      <td>88</td>\n",
       "      <td>1866</td>\n",
       "      <td>1944</td>\n",
       "    </tr>\n",
       "  </tbody>\n",
       "</table>\n",
       "</div>"
      ],
      "text/plain": [
       "                  name        years                         genre nationality  \\\n",
       "id                                                                              \n",
       "0    Amedeo Modigliani  1884 - 1920                 Expressionism     Italian   \n",
       "1   Vasiliy Kandinskiy  1866 - 1944  Expressionism,Abstractionism     Russian   \n",
       "\n",
       "                                                  bio  \\\n",
       "id                                                      \n",
       "0   Amedeo Clemente Modigliani  was an Italian Jew...   \n",
       "1   Wassily Wassilyevich Kandinsky   was a Russian...   \n",
       "\n",
       "                                         wikipedia  paintings  year_of_birth  \\\n",
       "id                                                                             \n",
       "0   http://en.wikipedia.org/wiki/Amedeo_Modigliani        193           1884   \n",
       "1   http://en.wikipedia.org/wiki/Wassily_Kandinsky         88           1866   \n",
       "\n",
       "    year_of_death  \n",
       "id                 \n",
       "0            1920  \n",
       "1            1944  "
      ]
     },
     "execution_count": 2,
     "metadata": {},
     "output_type": "execute_result"
    }
   ],
   "source": [
    "art = pd.read_csv('../data/art.csv', index_col = 0)\n",
    "art.head(2)"
   ]
  },
  {
   "cell_type": "code",
   "execution_count": 3,
   "id": "475c870f",
   "metadata": {},
   "outputs": [],
   "source": [
    "dic = rev.revoluciones"
   ]
  },
  {
   "cell_type": "code",
   "execution_count": 4,
   "id": "69fc481e",
   "metadata": {},
   "outputs": [],
   "source": [
    "srang = fr.sacar_rango"
   ]
  },
  {
   "cell_type": "code",
   "execution_count": 5,
   "id": "fab97973",
   "metadata": {},
   "outputs": [],
   "source": [
    "srev = fr.sacar_rev"
   ]
  },
  {
   "cell_type": "code",
   "execution_count": 6,
   "id": "9dbefff6",
   "metadata": {},
   "outputs": [],
   "source": [
    "art['revolución'] = art.apply(lambda datos: srev (datos[\"year_of_birth\"], datos[\"year_of_death\"], dic), axis = 1)"
   ]
  },
  {
   "cell_type": "markdown",
   "id": "1d6b3a0f",
   "metadata": {},
   "source": [
    "❕🧐 A continuación, se muestra el dataframe ampliado con la información obtenida."
   ]
  },
  {
   "cell_type": "code",
   "execution_count": 9,
   "id": "2a738339",
   "metadata": {
    "scrolled": true
   },
   "outputs": [
    {
     "data": {
      "text/html": [
       "<div>\n",
       "<style scoped>\n",
       "    .dataframe tbody tr th:only-of-type {\n",
       "        vertical-align: middle;\n",
       "    }\n",
       "\n",
       "    .dataframe tbody tr th {\n",
       "        vertical-align: top;\n",
       "    }\n",
       "\n",
       "    .dataframe thead th {\n",
       "        text-align: right;\n",
       "    }\n",
       "</style>\n",
       "<table border=\"1\" class=\"dataframe\">\n",
       "  <thead>\n",
       "    <tr style=\"text-align: right;\">\n",
       "      <th></th>\n",
       "      <th>name</th>\n",
       "      <th>years</th>\n",
       "      <th>genre</th>\n",
       "      <th>nationality</th>\n",
       "      <th>bio</th>\n",
       "      <th>wikipedia</th>\n",
       "      <th>paintings</th>\n",
       "      <th>year_of_birth</th>\n",
       "      <th>year_of_death</th>\n",
       "      <th>revolución</th>\n",
       "    </tr>\n",
       "    <tr>\n",
       "      <th>id</th>\n",
       "      <th></th>\n",
       "      <th></th>\n",
       "      <th></th>\n",
       "      <th></th>\n",
       "      <th></th>\n",
       "      <th></th>\n",
       "      <th></th>\n",
       "      <th></th>\n",
       "      <th></th>\n",
       "      <th></th>\n",
       "    </tr>\n",
       "  </thead>\n",
       "  <tbody>\n",
       "    <tr>\n",
       "      <th>0</th>\n",
       "      <td>Amedeo Modigliani</td>\n",
       "      <td>1884 - 1920</td>\n",
       "      <td>Expressionism</td>\n",
       "      <td>Italian</td>\n",
       "      <td>Amedeo Clemente Modigliani  was an Italian Jew...</td>\n",
       "      <td>http://en.wikipedia.org/wiki/Amedeo_Modigliani</td>\n",
       "      <td>193</td>\n",
       "      <td>1884</td>\n",
       "      <td>1920</td>\n",
       "      <td>Revolución rusa de 1905</td>\n",
       "    </tr>\n",
       "    <tr>\n",
       "      <th>1</th>\n",
       "      <td>Vasiliy Kandinskiy</td>\n",
       "      <td>1866 - 1944</td>\n",
       "      <td>Expressionism,Abstractionism</td>\n",
       "      <td>Russian</td>\n",
       "      <td>Wassily Wassilyevich Kandinsky   was a Russian...</td>\n",
       "      <td>http://en.wikipedia.org/wiki/Wassily_Kandinsky</td>\n",
       "      <td>88</td>\n",
       "      <td>1866</td>\n",
       "      <td>1944</td>\n",
       "      <td>Revolución de 1868</td>\n",
       "    </tr>\n",
       "  </tbody>\n",
       "</table>\n",
       "</div>"
      ],
      "text/plain": [
       "                  name        years                         genre nationality  \\\n",
       "id                                                                              \n",
       "0    Amedeo Modigliani  1884 - 1920                 Expressionism     Italian   \n",
       "1   Vasiliy Kandinskiy  1866 - 1944  Expressionism,Abstractionism     Russian   \n",
       "\n",
       "                                                  bio  \\\n",
       "id                                                      \n",
       "0   Amedeo Clemente Modigliani  was an Italian Jew...   \n",
       "1   Wassily Wassilyevich Kandinsky   was a Russian...   \n",
       "\n",
       "                                         wikipedia  paintings  year_of_birth  \\\n",
       "id                                                                             \n",
       "0   http://en.wikipedia.org/wiki/Amedeo_Modigliani        193           1884   \n",
       "1   http://en.wikipedia.org/wiki/Wassily_Kandinsky         88           1866   \n",
       "\n",
       "    year_of_death               revolución  \n",
       "id                                          \n",
       "0            1920  Revolución rusa de 1905  \n",
       "1            1944       Revolución de 1868  "
      ]
     },
     "execution_count": 9,
     "metadata": {},
     "output_type": "execute_result"
    }
   ],
   "source": [
    "art.head(2)"
   ]
  },
  {
   "cell_type": "code",
   "execution_count": 10,
   "id": "64693756",
   "metadata": {},
   "outputs": [],
   "source": [
    "art.to_csv('../data/artistas_revoluciones.csv')"
   ]
  }
 ],
 "metadata": {
  "kernelspec": {
   "display_name": "Python 3 (ipykernel)",
   "language": "python",
   "name": "python3"
  },
  "language_info": {
   "codemirror_mode": {
    "name": "ipython",
    "version": 3
   },
   "file_extension": ".py",
   "mimetype": "text/x-python",
   "name": "python",
   "nbconvert_exporter": "python",
   "pygments_lexer": "ipython3",
   "version": "3.9.5"
  }
 },
 "nbformat": 4,
 "nbformat_minor": 5
}
