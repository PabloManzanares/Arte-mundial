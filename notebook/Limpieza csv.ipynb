{
 "cells": [
  {
   "cell_type": "code",
   "execution_count": 2,
   "id": "a69a04a0",
   "metadata": {},
   "outputs": [],
   "source": [
    "import pandas as pd\n",
    "import numpy as np\n",
    "import re\n",
    "\n",
    "pd.options.display.max_columns = None"
   ]
  },
  {
   "cell_type": "code",
   "execution_count": 3,
   "id": "e543c4ac",
   "metadata": {
    "scrolled": true
   },
   "outputs": [
    {
     "data": {
      "text/html": [
       "<div>\n",
       "<style scoped>\n",
       "    .dataframe tbody tr th:only-of-type {\n",
       "        vertical-align: middle;\n",
       "    }\n",
       "\n",
       "    .dataframe tbody tr th {\n",
       "        vertical-align: top;\n",
       "    }\n",
       "\n",
       "    .dataframe thead th {\n",
       "        text-align: right;\n",
       "    }\n",
       "</style>\n",
       "<table border=\"1\" class=\"dataframe\">\n",
       "  <thead>\n",
       "    <tr style=\"text-align: right;\">\n",
       "      <th></th>\n",
       "      <th>name</th>\n",
       "      <th>years</th>\n",
       "      <th>genre</th>\n",
       "      <th>nationality</th>\n",
       "      <th>bio</th>\n",
       "      <th>wikipedia</th>\n",
       "      <th>paintings</th>\n",
       "    </tr>\n",
       "    <tr>\n",
       "      <th>id</th>\n",
       "      <th></th>\n",
       "      <th></th>\n",
       "      <th></th>\n",
       "      <th></th>\n",
       "      <th></th>\n",
       "      <th></th>\n",
       "      <th></th>\n",
       "    </tr>\n",
       "  </thead>\n",
       "  <tbody>\n",
       "    <tr>\n",
       "      <th>0</th>\n",
       "      <td>Amedeo Modigliani</td>\n",
       "      <td>1884 - 1920</td>\n",
       "      <td>Expressionism</td>\n",
       "      <td>Italian</td>\n",
       "      <td>Amedeo Clemente Modigliani (Italian pronunciat...</td>\n",
       "      <td>http://en.wikipedia.org/wiki/Amedeo_Modigliani</td>\n",
       "      <td>193</td>\n",
       "    </tr>\n",
       "    <tr>\n",
       "      <th>1</th>\n",
       "      <td>Vasiliy Kandinskiy</td>\n",
       "      <td>1866 - 1944</td>\n",
       "      <td>Expressionism,Abstractionism</td>\n",
       "      <td>Russian</td>\n",
       "      <td>Wassily Wassilyevich Kandinsky (Russian: Васи́...</td>\n",
       "      <td>http://en.wikipedia.org/wiki/Wassily_Kandinsky</td>\n",
       "      <td>88</td>\n",
       "    </tr>\n",
       "  </tbody>\n",
       "</table>\n",
       "</div>"
      ],
      "text/plain": [
       "                  name        years                         genre nationality  \\\n",
       "id                                                                              \n",
       "0    Amedeo Modigliani  1884 - 1920                 Expressionism     Italian   \n",
       "1   Vasiliy Kandinskiy  1866 - 1944  Expressionism,Abstractionism     Russian   \n",
       "\n",
       "                                                  bio  \\\n",
       "id                                                      \n",
       "0   Amedeo Clemente Modigliani (Italian pronunciat...   \n",
       "1   Wassily Wassilyevich Kandinsky (Russian: Васи́...   \n",
       "\n",
       "                                         wikipedia  paintings  \n",
       "id                                                             \n",
       "0   http://en.wikipedia.org/wiki/Amedeo_Modigliani        193  \n",
       "1   http://en.wikipedia.org/wiki/Wassily_Kandinsky         88  "
      ]
     },
     "execution_count": 3,
     "metadata": {},
     "output_type": "execute_result"
    }
   ],
   "source": [
    "art = pd.read_csv('../data/artists.csv', index_col = 0)\n",
    "art.head(2)"
   ]
  },
  {
   "cell_type": "code",
   "execution_count": 4,
   "id": "4e00b5dd",
   "metadata": {},
   "outputs": [
    {
     "data": {
      "text/plain": [
       "Index(['name', 'years', 'genre', 'nationality', 'bio', 'wikipedia',\n",
       "       'paintings'],\n",
       "      dtype='object')"
      ]
     },
     "execution_count": 4,
     "metadata": {},
     "output_type": "execute_result"
    }
   ],
   "source": [
    "art.columns"
   ]
  },
  {
   "cell_type": "code",
   "execution_count": 5,
   "id": "82322d99",
   "metadata": {},
   "outputs": [
    {
     "data": {
      "text/plain": [
       "(50, 7)"
      ]
     },
     "execution_count": 5,
     "metadata": {},
     "output_type": "execute_result"
    }
   ],
   "source": [
    "art.shape"
   ]
  },
  {
   "cell_type": "code",
   "execution_count": 6,
   "id": "97384dc7",
   "metadata": {},
   "outputs": [
    {
     "data": {
      "text/plain": [
       "name           object\n",
       "years          object\n",
       "genre          object\n",
       "nationality    object\n",
       "bio            object\n",
       "wikipedia      object\n",
       "paintings       int64\n",
       "dtype: object"
      ]
     },
     "execution_count": 6,
     "metadata": {},
     "output_type": "execute_result"
    }
   ],
   "source": [
    "art.dtypes"
   ]
  },
  {
   "cell_type": "code",
   "execution_count": 7,
   "id": "50b838cc",
   "metadata": {},
   "outputs": [
    {
     "name": "stdout",
     "output_type": "stream",
     "text": [
      "<class 'pandas.core.frame.DataFrame'>\n",
      "Int64Index: 50 entries, 0 to 49\n",
      "Data columns (total 7 columns):\n",
      " #   Column       Non-Null Count  Dtype \n",
      "---  ------       --------------  ----- \n",
      " 0   name         50 non-null     object\n",
      " 1   years        50 non-null     object\n",
      " 2   genre        50 non-null     object\n",
      " 3   nationality  50 non-null     object\n",
      " 4   bio          50 non-null     object\n",
      " 5   wikipedia    50 non-null     object\n",
      " 6   paintings    50 non-null     int64 \n",
      "dtypes: int64(1), object(6)\n",
      "memory usage: 3.1+ KB\n"
     ]
    }
   ],
   "source": [
    "art.info()"
   ]
  },
  {
   "cell_type": "code",
   "execution_count": 8,
   "id": "0e757b31",
   "metadata": {},
   "outputs": [
    {
     "data": {
      "text/html": [
       "<div>\n",
       "<style scoped>\n",
       "    .dataframe tbody tr th:only-of-type {\n",
       "        vertical-align: middle;\n",
       "    }\n",
       "\n",
       "    .dataframe tbody tr th {\n",
       "        vertical-align: top;\n",
       "    }\n",
       "\n",
       "    .dataframe thead th {\n",
       "        text-align: right;\n",
       "    }\n",
       "</style>\n",
       "<table border=\"1\" class=\"dataframe\">\n",
       "  <thead>\n",
       "    <tr style=\"text-align: right;\">\n",
       "      <th></th>\n",
       "      <th>paintings</th>\n",
       "    </tr>\n",
       "  </thead>\n",
       "  <tbody>\n",
       "    <tr>\n",
       "      <th>count</th>\n",
       "      <td>50.000000</td>\n",
       "    </tr>\n",
       "    <tr>\n",
       "      <th>mean</th>\n",
       "      <td>168.920000</td>\n",
       "    </tr>\n",
       "    <tr>\n",
       "      <th>std</th>\n",
       "      <td>157.451105</td>\n",
       "    </tr>\n",
       "    <tr>\n",
       "      <th>min</th>\n",
       "      <td>24.000000</td>\n",
       "    </tr>\n",
       "    <tr>\n",
       "      <th>25%</th>\n",
       "      <td>81.000000</td>\n",
       "    </tr>\n",
       "    <tr>\n",
       "      <th>50%</th>\n",
       "      <td>123.000000</td>\n",
       "    </tr>\n",
       "    <tr>\n",
       "      <th>75%</th>\n",
       "      <td>191.750000</td>\n",
       "    </tr>\n",
       "    <tr>\n",
       "      <th>max</th>\n",
       "      <td>877.000000</td>\n",
       "    </tr>\n",
       "  </tbody>\n",
       "</table>\n",
       "</div>"
      ],
      "text/plain": [
       "        paintings\n",
       "count   50.000000\n",
       "mean   168.920000\n",
       "std    157.451105\n",
       "min     24.000000\n",
       "25%     81.000000\n",
       "50%    123.000000\n",
       "75%    191.750000\n",
       "max    877.000000"
      ]
     },
     "execution_count": 8,
     "metadata": {},
     "output_type": "execute_result"
    }
   ],
   "source": [
    "art.describe()"
   ]
  },
  {
   "cell_type": "code",
   "execution_count": 9,
   "id": "b235486d",
   "metadata": {},
   "outputs": [
    {
     "data": {
      "text/plain": [
       "name           0\n",
       "years          0\n",
       "genre          0\n",
       "nationality    0\n",
       "bio            0\n",
       "wikipedia      0\n",
       "paintings      0\n",
       "dtype: int64"
      ]
     },
     "execution_count": 9,
     "metadata": {},
     "output_type": "execute_result"
    }
   ],
   "source": [
    "art.isnull().sum()"
   ]
  },
  {
   "cell_type": "code",
   "execution_count": 10,
   "id": "680dee34",
   "metadata": {},
   "outputs": [
    {
     "data": {
      "text/plain": [
       "name           object\n",
       "years          object\n",
       "genre          object\n",
       "nationality    object\n",
       "bio            object\n",
       "wikipedia      object\n",
       "paintings       int64\n",
       "dtype: object"
      ]
     },
     "execution_count": 10,
     "metadata": {},
     "output_type": "execute_result"
    }
   ],
   "source": [
    "art.dtypes"
   ]
  },
  {
   "cell_type": "code",
   "execution_count": 11,
   "id": "c3e680e8",
   "metadata": {},
   "outputs": [],
   "source": [
    "art['bio'] = art['bio'].str.replace(r'\\(.*?\\)', '', regex = True)"
   ]
  },
  {
   "cell_type": "code",
   "execution_count": 12,
   "id": "609d0e13",
   "metadata": {},
   "outputs": [
    {
     "data": {
      "text/html": [
       "<div>\n",
       "<style scoped>\n",
       "    .dataframe tbody tr th:only-of-type {\n",
       "        vertical-align: middle;\n",
       "    }\n",
       "\n",
       "    .dataframe tbody tr th {\n",
       "        vertical-align: top;\n",
       "    }\n",
       "\n",
       "    .dataframe thead th {\n",
       "        text-align: right;\n",
       "    }\n",
       "</style>\n",
       "<table border=\"1\" class=\"dataframe\">\n",
       "  <thead>\n",
       "    <tr style=\"text-align: right;\">\n",
       "      <th></th>\n",
       "      <th>name</th>\n",
       "      <th>years</th>\n",
       "      <th>genre</th>\n",
       "      <th>nationality</th>\n",
       "      <th>bio</th>\n",
       "      <th>wikipedia</th>\n",
       "      <th>paintings</th>\n",
       "    </tr>\n",
       "    <tr>\n",
       "      <th>id</th>\n",
       "      <th></th>\n",
       "      <th></th>\n",
       "      <th></th>\n",
       "      <th></th>\n",
       "      <th></th>\n",
       "      <th></th>\n",
       "      <th></th>\n",
       "    </tr>\n",
       "  </thead>\n",
       "  <tbody>\n",
       "    <tr>\n",
       "      <th>23</th>\n",
       "      <td>Giotto di Bondone</td>\n",
       "      <td>1266 - 1337</td>\n",
       "      <td>Proto Renaissance</td>\n",
       "      <td>Italian</td>\n",
       "      <td>Giotto di Bondone , known mononymously as Giot...</td>\n",
       "      <td>http://en.wikipedia.org/wiki/Giotto_di_Bondone</td>\n",
       "      <td>119</td>\n",
       "    </tr>\n",
       "    <tr>\n",
       "      <th>7</th>\n",
       "      <td>Andrei Rublev</td>\n",
       "      <td>1360 - 1430</td>\n",
       "      <td>Byzantine Art</td>\n",
       "      <td>Russian</td>\n",
       "      <td>Andrei Rublev  is considered to be one of the ...</td>\n",
       "      <td>http://en.wikipedia.org/wiki/Andrei_Rublev</td>\n",
       "      <td>99</td>\n",
       "    </tr>\n",
       "  </tbody>\n",
       "</table>\n",
       "</div>"
      ],
      "text/plain": [
       "                 name        years              genre nationality  \\\n",
       "id                                                                  \n",
       "23  Giotto di Bondone  1266 - 1337  Proto Renaissance     Italian   \n",
       "7       Andrei Rublev  1360 - 1430      Byzantine Art     Russian   \n",
       "\n",
       "                                                  bio  \\\n",
       "id                                                      \n",
       "23  Giotto di Bondone , known mononymously as Giot...   \n",
       "7   Andrei Rublev  is considered to be one of the ...   \n",
       "\n",
       "                                         wikipedia  paintings  \n",
       "id                                                             \n",
       "23  http://en.wikipedia.org/wiki/Giotto_di_Bondone        119  \n",
       "7       http://en.wikipedia.org/wiki/Andrei_Rublev         99  "
      ]
     },
     "execution_count": 12,
     "metadata": {},
     "output_type": "execute_result"
    }
   ],
   "source": [
    "art.sort_values(by=['years']).head(2)"
   ]
  },
  {
   "cell_type": "code",
   "execution_count": 13,
   "id": "bcd46ac8",
   "metadata": {},
   "outputs": [],
   "source": [
    "edad = art['years']"
   ]
  },
  {
   "cell_type": "code",
   "execution_count": 14,
   "id": "74c94940",
   "metadata": {},
   "outputs": [],
   "source": [
    "art['year_of_birth'] = art['years'].str.extract(r'^(\\d..\\d)')"
   ]
  },
  {
   "cell_type": "code",
   "execution_count": 15,
   "id": "5a0b8262",
   "metadata": {
    "scrolled": true
   },
   "outputs": [
    {
     "data": {
      "text/html": [
       "<div>\n",
       "<style scoped>\n",
       "    .dataframe tbody tr th:only-of-type {\n",
       "        vertical-align: middle;\n",
       "    }\n",
       "\n",
       "    .dataframe tbody tr th {\n",
       "        vertical-align: top;\n",
       "    }\n",
       "\n",
       "    .dataframe thead th {\n",
       "        text-align: right;\n",
       "    }\n",
       "</style>\n",
       "<table border=\"1\" class=\"dataframe\">\n",
       "  <thead>\n",
       "    <tr style=\"text-align: right;\">\n",
       "      <th></th>\n",
       "      <th>name</th>\n",
       "      <th>years</th>\n",
       "      <th>genre</th>\n",
       "      <th>nationality</th>\n",
       "      <th>bio</th>\n",
       "      <th>wikipedia</th>\n",
       "      <th>paintings</th>\n",
       "      <th>year_of_birth</th>\n",
       "    </tr>\n",
       "    <tr>\n",
       "      <th>id</th>\n",
       "      <th></th>\n",
       "      <th></th>\n",
       "      <th></th>\n",
       "      <th></th>\n",
       "      <th></th>\n",
       "      <th></th>\n",
       "      <th></th>\n",
       "      <th></th>\n",
       "    </tr>\n",
       "  </thead>\n",
       "  <tbody>\n",
       "    <tr>\n",
       "      <th>0</th>\n",
       "      <td>Amedeo Modigliani</td>\n",
       "      <td>1884 - 1920</td>\n",
       "      <td>Expressionism</td>\n",
       "      <td>Italian</td>\n",
       "      <td>Amedeo Clemente Modigliani  was an Italian Jew...</td>\n",
       "      <td>http://en.wikipedia.org/wiki/Amedeo_Modigliani</td>\n",
       "      <td>193</td>\n",
       "      <td>1884</td>\n",
       "    </tr>\n",
       "    <tr>\n",
       "      <th>1</th>\n",
       "      <td>Vasiliy Kandinskiy</td>\n",
       "      <td>1866 - 1944</td>\n",
       "      <td>Expressionism,Abstractionism</td>\n",
       "      <td>Russian</td>\n",
       "      <td>Wassily Wassilyevich Kandinsky   was a Russian...</td>\n",
       "      <td>http://en.wikipedia.org/wiki/Wassily_Kandinsky</td>\n",
       "      <td>88</td>\n",
       "      <td>1866</td>\n",
       "    </tr>\n",
       "  </tbody>\n",
       "</table>\n",
       "</div>"
      ],
      "text/plain": [
       "                  name        years                         genre nationality  \\\n",
       "id                                                                              \n",
       "0    Amedeo Modigliani  1884 - 1920                 Expressionism     Italian   \n",
       "1   Vasiliy Kandinskiy  1866 - 1944  Expressionism,Abstractionism     Russian   \n",
       "\n",
       "                                                  bio  \\\n",
       "id                                                      \n",
       "0   Amedeo Clemente Modigliani  was an Italian Jew...   \n",
       "1   Wassily Wassilyevich Kandinsky   was a Russian...   \n",
       "\n",
       "                                         wikipedia  paintings year_of_birth  \n",
       "id                                                                           \n",
       "0   http://en.wikipedia.org/wiki/Amedeo_Modigliani        193          1884  \n",
       "1   http://en.wikipedia.org/wiki/Wassily_Kandinsky         88          1866  "
      ]
     },
     "execution_count": 15,
     "metadata": {},
     "output_type": "execute_result"
    }
   ],
   "source": [
    "art.head(2)"
   ]
  },
  {
   "cell_type": "code",
   "execution_count": 16,
   "id": "f6a49d58",
   "metadata": {},
   "outputs": [],
   "source": [
    "art['year_of_death'] = art['years'].str.extract(r'(\\d..\\d)$')"
   ]
  },
  {
   "cell_type": "code",
   "execution_count": 17,
   "id": "cf44a620",
   "metadata": {
    "scrolled": true
   },
   "outputs": [
    {
     "data": {
      "text/html": [
       "<div>\n",
       "<style scoped>\n",
       "    .dataframe tbody tr th:only-of-type {\n",
       "        vertical-align: middle;\n",
       "    }\n",
       "\n",
       "    .dataframe tbody tr th {\n",
       "        vertical-align: top;\n",
       "    }\n",
       "\n",
       "    .dataframe thead th {\n",
       "        text-align: right;\n",
       "    }\n",
       "</style>\n",
       "<table border=\"1\" class=\"dataframe\">\n",
       "  <thead>\n",
       "    <tr style=\"text-align: right;\">\n",
       "      <th></th>\n",
       "      <th>name</th>\n",
       "      <th>years</th>\n",
       "      <th>genre</th>\n",
       "      <th>nationality</th>\n",
       "      <th>bio</th>\n",
       "      <th>wikipedia</th>\n",
       "      <th>paintings</th>\n",
       "      <th>year_of_birth</th>\n",
       "      <th>year_of_death</th>\n",
       "    </tr>\n",
       "    <tr>\n",
       "      <th>id</th>\n",
       "      <th></th>\n",
       "      <th></th>\n",
       "      <th></th>\n",
       "      <th></th>\n",
       "      <th></th>\n",
       "      <th></th>\n",
       "      <th></th>\n",
       "      <th></th>\n",
       "      <th></th>\n",
       "    </tr>\n",
       "  </thead>\n",
       "  <tbody>\n",
       "    <tr>\n",
       "      <th>0</th>\n",
       "      <td>Amedeo Modigliani</td>\n",
       "      <td>1884 - 1920</td>\n",
       "      <td>Expressionism</td>\n",
       "      <td>Italian</td>\n",
       "      <td>Amedeo Clemente Modigliani  was an Italian Jew...</td>\n",
       "      <td>http://en.wikipedia.org/wiki/Amedeo_Modigliani</td>\n",
       "      <td>193</td>\n",
       "      <td>1884</td>\n",
       "      <td>1920</td>\n",
       "    </tr>\n",
       "    <tr>\n",
       "      <th>1</th>\n",
       "      <td>Vasiliy Kandinskiy</td>\n",
       "      <td>1866 - 1944</td>\n",
       "      <td>Expressionism,Abstractionism</td>\n",
       "      <td>Russian</td>\n",
       "      <td>Wassily Wassilyevich Kandinsky   was a Russian...</td>\n",
       "      <td>http://en.wikipedia.org/wiki/Wassily_Kandinsky</td>\n",
       "      <td>88</td>\n",
       "      <td>1866</td>\n",
       "      <td>1944</td>\n",
       "    </tr>\n",
       "  </tbody>\n",
       "</table>\n",
       "</div>"
      ],
      "text/plain": [
       "                  name        years                         genre nationality  \\\n",
       "id                                                                              \n",
       "0    Amedeo Modigliani  1884 - 1920                 Expressionism     Italian   \n",
       "1   Vasiliy Kandinskiy  1866 - 1944  Expressionism,Abstractionism     Russian   \n",
       "\n",
       "                                                  bio  \\\n",
       "id                                                      \n",
       "0   Amedeo Clemente Modigliani  was an Italian Jew...   \n",
       "1   Wassily Wassilyevich Kandinsky   was a Russian...   \n",
       "\n",
       "                                         wikipedia  paintings year_of_birth  \\\n",
       "id                                                                            \n",
       "0   http://en.wikipedia.org/wiki/Amedeo_Modigliani        193          1884   \n",
       "1   http://en.wikipedia.org/wiki/Wassily_Kandinsky         88          1866   \n",
       "\n",
       "   year_of_death  \n",
       "id                \n",
       "0           1920  \n",
       "1           1944  "
      ]
     },
     "execution_count": 17,
     "metadata": {},
     "output_type": "execute_result"
    }
   ],
   "source": [
    "art.head(2)"
   ]
  },
  {
   "cell_type": "code",
   "execution_count": null,
   "id": "d104b2dc",
   "metadata": {},
   "outputs": [],
   "source": [
    "art."
   ]
  },
  {
   "cell_type": "code",
   "execution_count": 34,
   "id": "73b85730",
   "metadata": {},
   "outputs": [],
   "source": [
    "for index, row in art.iterrows():\n",
    "    x = int(art['year_of_birth'][index])\n",
    "    y = int(art['year_of_death'][index])\n",
    "    años = range(x, y)\n"
   ]
  },
  {
   "cell_type": "code",
   "execution_count": 54,
   "id": "38a9a6da",
   "metadata": {},
   "outputs": [],
   "source": [
    "def sacar_revolucion(x, y):\n",
    "    for key, value in revoluciones.items():\n",
    "        if value in range(int(x), int(y)):\n",
    "            return key\n",
    "        else:\n",
    "            return \"no hay revolucion\"\n",
    "        "
   ]
  },
  {
   "cell_type": "code",
   "execution_count": null,
   "id": "35440300",
   "metadata": {},
   "outputs": [],
   "source": []
  },
  {
   "cell_type": "code",
   "execution_count": 56,
   "id": "b2d49428",
   "metadata": {},
   "outputs": [],
   "source": [
    "art[\"revolucion\"] = art.apply(lambda datos: sacar_revolucion(datos[\"year_of_birth\"],datos[\"year_of_death\"]), axis = 1)"
   ]
  },
  {
   "cell_type": "code",
   "execution_count": 51,
   "id": "e24dba3a",
   "metadata": {
    "scrolled": true
   },
   "outputs": [
    {
     "data": {
      "text/plain": [
       "array(['no hay revolucion', 'Guerra de los Ochenta Años'], dtype=object)"
      ]
     },
     "execution_count": 51,
     "metadata": {},
     "output_type": "execute_result"
    }
   ],
   "source": [
    "art.revolucion.unique()"
   ]
  },
  {
   "cell_type": "code",
   "execution_count": 47,
   "id": "2bdcb8b7",
   "metadata": {},
   "outputs": [],
   "source": [
    "revoluciones = {'Guerra de los Ochenta Años': 1568,\n",
    " 'Revolución inglesa': 1642,\n",
    " 'Revolución gloriosa': 1688,\n",
    " 'Ciclo atlántico': 1776,\n",
    " 'Guerra de la Independencia de los Estados Unidos': 1776,\n",
    " 'No info': 'No info',\n",
    " 'Revolución francesa': 1789,\n",
    " 'Independencia de la América Hispana': 1808,\n",
    " 'Revolución de mayo': 1810,\n",
    " 'Revolución oriental': 1811,\n",
    " 'Revolución de 1820': 1820,\n",
    " 'Trienio Liberal': 1820,\n",
    " 'Revolución liberal de Oporto': 1820,\n",
    " 'Guerra de independencia de Grecia': 1821,\n",
    " 'Revolución de 1830': 1830,\n",
    " 'Monarquía de Julio': 1830,\n",
    " 'Revolución belga': 1830,\n",
    " 'Revolución de 1848': 1848,\n",
    " 'Revolución de Ayutla': 1854,\n",
    " 'Revolución de 1868': 1868,\n",
    " 'Revolución rusa de 1905': 1905,\n",
    " 'Revolución mexicana': 1910,\n",
    " 'Revolución de Xinhai': 1911,\n",
    " 'Revolución de febrero': 1917,\n",
    " 'Revolución de Noviembre': 1918,\n",
    " 'Revolución turca (aún no redactado)': 1919,\n",
    " 'Comuna de París': 1871,\n",
    " 'Revolución bolchevique': 1917,\n",
    " 'Levantamiento Espartaquista': 1919,\n",
    " 'República Soviética Húngara': 1919,\n",
    " 'Revolución mongola de 1921': 1921,\n",
    " 'Revolución de Asturias de 1934': 1934,\n",
    " 'Revolución española de 1936': 1936,\n",
    " 'Revolución búlgara': 1944,\n",
    " 'Revolución china de 1949': 1949,\n",
    " 'Revolución cultural': 1966,\n",
    " 'Telón de Acero': 1945,\n",
    " 'Historia de Corea del Norte': 1948,\n",
    " 'Crisis de los misiles en Cuba': 1962,\n",
    " 'Gran Salto Adelante': 1958,\n",
    " 'Vietnam del Norte': 1954,\n",
    " 'Guerra de Independencia de Argelia': 1954,\n",
    " 'Historia de Iraq': 1958,\n",
    " 'Revolución cubana': 1959,\n",
    " 'Crisis del Congo': 1960,\n",
    " 'Yemen del Sur': 1967,\n",
    " 'Historia de Libia': 1969,\n",
    " 'Historia de Somalia': 1969,\n",
    " 'Salvador Allende': 1970,\n",
    " 'Historia de Benín': 1972,\n",
    " 'Historia de Etiopía': 1974,\n",
    " 'Guinea-Bissau': 1974,\n",
    " 'Kampuchea Democrática': 1975,\n",
    " 'Vietnam del Sur': 1975,\n",
    " 'Historia de Laos': 1975,\n",
    " 'Didier Ratsiraka': 1975,\n",
    " 'Cabo Verde': 1975,\n",
    " 'Historia de Mozambique': 1975,\n",
    " 'Historia de Angola': 1975,\n",
    " 'Revolución de Saur': 1978,\n",
    " 'Revolución sandinista': 1979,\n",
    " 'Historia de Granada (país)': 1979,\n",
    " 'Burkina Faso': 19831922,\n",
    " 'Italia fascista': 1933,\n",
    " 'Tercer Reich': 1936,\n",
    " 'Movimiento Nacional': 1940}\n",
    "    "
   ]
  },
  {
   "cell_type": "code",
   "execution_count": 48,
   "id": "ef176e13",
   "metadata": {
    "scrolled": true
   },
   "outputs": [
    {
     "data": {
      "text/html": [
       "<div>\n",
       "<style scoped>\n",
       "    .dataframe tbody tr th:only-of-type {\n",
       "        vertical-align: middle;\n",
       "    }\n",
       "\n",
       "    .dataframe tbody tr th {\n",
       "        vertical-align: top;\n",
       "    }\n",
       "\n",
       "    .dataframe thead th {\n",
       "        text-align: right;\n",
       "    }\n",
       "</style>\n",
       "<table border=\"1\" class=\"dataframe\">\n",
       "  <thead>\n",
       "    <tr style=\"text-align: right;\">\n",
       "      <th></th>\n",
       "      <th>revolucion</th>\n",
       "      <th>fecha</th>\n",
       "    </tr>\n",
       "  </thead>\n",
       "  <tbody>\n",
       "    <tr>\n",
       "      <th>0</th>\n",
       "      <td>Guerra de los Ochenta Años</td>\n",
       "      <td>1568</td>\n",
       "    </tr>\n",
       "    <tr>\n",
       "      <th>1</th>\n",
       "      <td>Revolución inglesa</td>\n",
       "      <td>1642</td>\n",
       "    </tr>\n",
       "    <tr>\n",
       "      <th>2</th>\n",
       "      <td>Revolución gloriosa</td>\n",
       "      <td>1688</td>\n",
       "    </tr>\n",
       "    <tr>\n",
       "      <th>3</th>\n",
       "      <td>Ciclo atlántico</td>\n",
       "      <td>1776</td>\n",
       "    </tr>\n",
       "    <tr>\n",
       "      <th>4</th>\n",
       "      <td>Guerra de la Independencia de los Estados Unidos</td>\n",
       "      <td>1776</td>\n",
       "    </tr>\n",
       "  </tbody>\n",
       "</table>\n",
       "</div>"
      ],
      "text/plain": [
       "                                         revolucion fecha\n",
       "0                        Guerra de los Ochenta Años  1568\n",
       "1                                Revolución inglesa  1642\n",
       "2                               Revolución gloriosa  1688\n",
       "3                                   Ciclo atlántico  1776\n",
       "4  Guerra de la Independencia de los Estados Unidos  1776"
      ]
     },
     "execution_count": 48,
     "metadata": {},
     "output_type": "execute_result"
    }
   ],
   "source": [
    "fechas_rev = pd.read_csv('../data/fechas_revoluciones.csv', index_col = 0)\n",
    "fechas_rev.head()"
   ]
  },
  {
   "cell_type": "code",
   "execution_count": 22,
   "id": "48287cbd",
   "metadata": {},
   "outputs": [
    {
     "data": {
      "text/html": [
       "<div>\n",
       "<style scoped>\n",
       "    .dataframe tbody tr th:only-of-type {\n",
       "        vertical-align: middle;\n",
       "    }\n",
       "\n",
       "    .dataframe tbody tr th {\n",
       "        vertical-align: top;\n",
       "    }\n",
       "\n",
       "    .dataframe thead th {\n",
       "        text-align: right;\n",
       "    }\n",
       "</style>\n",
       "<table border=\"1\" class=\"dataframe\">\n",
       "  <thead>\n",
       "    <tr style=\"text-align: right;\">\n",
       "      <th></th>\n",
       "      <th>name</th>\n",
       "      <th>years</th>\n",
       "      <th>genre</th>\n",
       "      <th>nationality</th>\n",
       "      <th>bio</th>\n",
       "      <th>wikipedia</th>\n",
       "      <th>paintings</th>\n",
       "      <th>year of birth</th>\n",
       "      <th>revolucion</th>\n",
       "      <th>fecha</th>\n",
       "    </tr>\n",
       "  </thead>\n",
       "  <tbody>\n",
       "    <tr>\n",
       "      <th>0</th>\n",
       "      <td>Camille Pissarro</td>\n",
       "      <td>1830 - 1903</td>\n",
       "      <td>Impressionism,Post-Impressionism</td>\n",
       "      <td>French</td>\n",
       "      <td>Camille Pissarro  was a Danish-French Impressi...</td>\n",
       "      <td>https://en.wikipedia.org/wiki/Camille_Pissarro</td>\n",
       "      <td>91</td>\n",
       "      <td>1830</td>\n",
       "      <td>Revolución de 1830</td>\n",
       "      <td>1830</td>\n",
       "    </tr>\n",
       "    <tr>\n",
       "      <th>1</th>\n",
       "      <td>Camille Pissarro</td>\n",
       "      <td>1830 - 1903</td>\n",
       "      <td>Impressionism,Post-Impressionism</td>\n",
       "      <td>French</td>\n",
       "      <td>Camille Pissarro  was a Danish-French Impressi...</td>\n",
       "      <td>https://en.wikipedia.org/wiki/Camille_Pissarro</td>\n",
       "      <td>91</td>\n",
       "      <td>1830</td>\n",
       "      <td>Monarquía de Julio</td>\n",
       "      <td>1830</td>\n",
       "    </tr>\n",
       "    <tr>\n",
       "      <th>2</th>\n",
       "      <td>Camille Pissarro</td>\n",
       "      <td>1830 - 1903</td>\n",
       "      <td>Impressionism,Post-Impressionism</td>\n",
       "      <td>French</td>\n",
       "      <td>Camille Pissarro  was a Danish-French Impressi...</td>\n",
       "      <td>https://en.wikipedia.org/wiki/Camille_Pissarro</td>\n",
       "      <td>91</td>\n",
       "      <td>1830</td>\n",
       "      <td>Revolución belga</td>\n",
       "      <td>1830</td>\n",
       "    </tr>\n",
       "    <tr>\n",
       "      <th>3</th>\n",
       "      <td>Paul Gauguin</td>\n",
       "      <td>1848 – 1903</td>\n",
       "      <td>Symbolism,Post-Impressionism</td>\n",
       "      <td>French</td>\n",
       "      <td>Eugène Henri Paul Gauguin  was a French post-I...</td>\n",
       "      <td>http://en.wikipedia.org/wiki/Paul_Gauguin</td>\n",
       "      <td>311</td>\n",
       "      <td>1848</td>\n",
       "      <td>Revolución de 1848</td>\n",
       "      <td>1848</td>\n",
       "    </tr>\n",
       "  </tbody>\n",
       "</table>\n",
       "</div>"
      ],
      "text/plain": [
       "               name        years                             genre  \\\n",
       "0  Camille Pissarro  1830 - 1903  Impressionism,Post-Impressionism   \n",
       "1  Camille Pissarro  1830 - 1903  Impressionism,Post-Impressionism   \n",
       "2  Camille Pissarro  1830 - 1903  Impressionism,Post-Impressionism   \n",
       "3      Paul Gauguin  1848 – 1903      Symbolism,Post-Impressionism   \n",
       "\n",
       "  nationality                                                bio  \\\n",
       "0      French  Camille Pissarro  was a Danish-French Impressi...   \n",
       "1      French  Camille Pissarro  was a Danish-French Impressi...   \n",
       "2      French  Camille Pissarro  was a Danish-French Impressi...   \n",
       "3      French  Eugène Henri Paul Gauguin  was a French post-I...   \n",
       "\n",
       "                                        wikipedia  paintings year of birth  \\\n",
       "0  https://en.wikipedia.org/wiki/Camille_Pissarro         91          1830   \n",
       "1  https://en.wikipedia.org/wiki/Camille_Pissarro         91          1830   \n",
       "2  https://en.wikipedia.org/wiki/Camille_Pissarro         91          1830   \n",
       "3       http://en.wikipedia.org/wiki/Paul_Gauguin        311          1848   \n",
       "\n",
       "           revolucion fecha  \n",
       "0  Revolución de 1830  1830  \n",
       "1  Monarquía de Julio  1830  \n",
       "2    Revolución belga  1830  \n",
       "3  Revolución de 1848  1848  "
      ]
     },
     "execution_count": 22,
     "metadata": {},
     "output_type": "execute_result"
    }
   ],
   "source": [
    "mergeado_inner2 = art.merge(fechas_rev, left_on = \"year of birth\", \n",
    "                               right_on = \"fecha\")\n",
    "mergeado_inner2.head()"
   ]
  },
  {
   "cell_type": "code",
   "execution_count": null,
   "id": "7705fafa",
   "metadata": {},
   "outputs": [],
   "source": []
  }
 ],
 "metadata": {
  "kernelspec": {
   "display_name": "Python 3 (ipykernel)",
   "language": "python",
   "name": "python3"
  },
  "language_info": {
   "codemirror_mode": {
    "name": "ipython",
    "version": 3
   },
   "file_extension": ".py",
   "mimetype": "text/x-python",
   "name": "python",
   "nbconvert_exporter": "python",
   "pygments_lexer": "ipython3",
   "version": "3.9.5"
  }
 },
 "nbformat": 4,
 "nbformat_minor": 5
}
