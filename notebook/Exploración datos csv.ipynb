{
 "cells": [
  {
   "cell_type": "markdown",
   "id": "13970395",
   "metadata": {},
   "source": [
    "# Exploración datos y limpieza csv"
   ]
  },
  {
   "cell_type": "markdown",
   "id": "3931d343",
   "metadata": {},
   "source": [
    "🎨🖌 **En este caso, trabajaremos con un csv que contiene información sobre 50 de los artistas más importantes de la historia.** "
   ]
  },
  {
   "cell_type": "code",
   "execution_count": 1,
   "id": "a69a04a0",
   "metadata": {},
   "outputs": [],
   "source": [
    "import pandas as pd\n",
    "import re\n",
    "\n",
    "pd.options.display.max_columns = None"
   ]
  },
  {
   "cell_type": "code",
   "execution_count": 2,
   "id": "e543c4ac",
   "metadata": {
    "scrolled": false
   },
   "outputs": [
    {
     "data": {
      "text/html": [
       "<div>\n",
       "<style scoped>\n",
       "    .dataframe tbody tr th:only-of-type {\n",
       "        vertical-align: middle;\n",
       "    }\n",
       "\n",
       "    .dataframe tbody tr th {\n",
       "        vertical-align: top;\n",
       "    }\n",
       "\n",
       "    .dataframe thead th {\n",
       "        text-align: right;\n",
       "    }\n",
       "</style>\n",
       "<table border=\"1\" class=\"dataframe\">\n",
       "  <thead>\n",
       "    <tr style=\"text-align: right;\">\n",
       "      <th></th>\n",
       "      <th>name</th>\n",
       "      <th>years</th>\n",
       "      <th>genre</th>\n",
       "      <th>nationality</th>\n",
       "      <th>bio</th>\n",
       "      <th>wikipedia</th>\n",
       "      <th>paintings</th>\n",
       "    </tr>\n",
       "    <tr>\n",
       "      <th>id</th>\n",
       "      <th></th>\n",
       "      <th></th>\n",
       "      <th></th>\n",
       "      <th></th>\n",
       "      <th></th>\n",
       "      <th></th>\n",
       "      <th></th>\n",
       "    </tr>\n",
       "  </thead>\n",
       "  <tbody>\n",
       "    <tr>\n",
       "      <th>0</th>\n",
       "      <td>Amedeo Modigliani</td>\n",
       "      <td>1884 - 1920</td>\n",
       "      <td>Expressionism</td>\n",
       "      <td>Italian</td>\n",
       "      <td>Amedeo Clemente Modigliani (Italian pronunciat...</td>\n",
       "      <td>http://en.wikipedia.org/wiki/Amedeo_Modigliani</td>\n",
       "      <td>193</td>\n",
       "    </tr>\n",
       "    <tr>\n",
       "      <th>1</th>\n",
       "      <td>Vasiliy Kandinskiy</td>\n",
       "      <td>1866 - 1944</td>\n",
       "      <td>Expressionism,Abstractionism</td>\n",
       "      <td>Russian</td>\n",
       "      <td>Wassily Wassilyevich Kandinsky (Russian: Васи́...</td>\n",
       "      <td>http://en.wikipedia.org/wiki/Wassily_Kandinsky</td>\n",
       "      <td>88</td>\n",
       "    </tr>\n",
       "  </tbody>\n",
       "</table>\n",
       "</div>"
      ],
      "text/plain": [
       "                  name        years                         genre nationality  \\\n",
       "id                                                                              \n",
       "0    Amedeo Modigliani  1884 - 1920                 Expressionism     Italian   \n",
       "1   Vasiliy Kandinskiy  1866 - 1944  Expressionism,Abstractionism     Russian   \n",
       "\n",
       "                                                  bio  \\\n",
       "id                                                      \n",
       "0   Amedeo Clemente Modigliani (Italian pronunciat...   \n",
       "1   Wassily Wassilyevich Kandinsky (Russian: Васи́...   \n",
       "\n",
       "                                         wikipedia  paintings  \n",
       "id                                                             \n",
       "0   http://en.wikipedia.org/wiki/Amedeo_Modigliani        193  \n",
       "1   http://en.wikipedia.org/wiki/Wassily_Kandinsky         88  "
      ]
     },
     "execution_count": 2,
     "metadata": {},
     "output_type": "execute_result"
    }
   ],
   "source": [
    "art = pd.read_csv('../data/artists.csv', index_col = 0)\n",
    "art.head(2)"
   ]
  },
  {
   "cell_type": "markdown",
   "id": "19a9d431",
   "metadata": {},
   "source": [
    "1️⃣ **En primer lugar, realizamos un análisis del csv para poder obtener la información básica del mismo y trabajar sobre él.**"
   ]
  },
  {
   "cell_type": "markdown",
   "id": "77e92050",
   "metadata": {},
   "source": [
    "**colums:** obtenemos las columnas que conforman el csv."
   ]
  },
  {
   "cell_type": "code",
   "execution_count": 3,
   "id": "4e00b5dd",
   "metadata": {},
   "outputs": [
    {
     "data": {
      "text/plain": [
       "Index(['name', 'years', 'genre', 'nationality', 'bio', 'wikipedia',\n",
       "       'paintings'],\n",
       "      dtype='object')"
      ]
     },
     "execution_count": 3,
     "metadata": {},
     "output_type": "execute_result"
    }
   ],
   "source": [
    "art.columns"
   ]
  },
  {
   "cell_type": "markdown",
   "id": "101239ad",
   "metadata": {},
   "source": [
    "**shape:** nos devuelve cuántas filas y columnas conforman el dataframe."
   ]
  },
  {
   "cell_type": "code",
   "execution_count": 4,
   "id": "82322d99",
   "metadata": {},
   "outputs": [
    {
     "data": {
      "text/plain": [
       "(50, 7)"
      ]
     },
     "execution_count": 4,
     "metadata": {},
     "output_type": "execute_result"
    }
   ],
   "source": [
    "art.shape"
   ]
  },
  {
   "cell_type": "markdown",
   "id": "57a89d6b",
   "metadata": {},
   "source": [
    "**dtypes:** nos devuelve qué tipos de datos tenemos por columna"
   ]
  },
  {
   "cell_type": "code",
   "execution_count": 5,
   "id": "97384dc7",
   "metadata": {},
   "outputs": [
    {
     "data": {
      "text/plain": [
       "name           object\n",
       "years          object\n",
       "genre          object\n",
       "nationality    object\n",
       "bio            object\n",
       "wikipedia      object\n",
       "paintings       int64\n",
       "dtype: object"
      ]
     },
     "execution_count": 5,
     "metadata": {},
     "output_type": "execute_result"
    }
   ],
   "source": [
    "art.dtypes"
   ]
  },
  {
   "cell_type": "markdown",
   "id": "301e8e6c",
   "metadata": {},
   "source": [
    "**info:** nos aporta información general sobre el dataframe. Así, obtenemos el nombre de las columnas, número de valores nulos y tipo de dato."
   ]
  },
  {
   "cell_type": "code",
   "execution_count": 6,
   "id": "50b838cc",
   "metadata": {},
   "outputs": [
    {
     "name": "stdout",
     "output_type": "stream",
     "text": [
      "<class 'pandas.core.frame.DataFrame'>\n",
      "Int64Index: 50 entries, 0 to 49\n",
      "Data columns (total 7 columns):\n",
      " #   Column       Non-Null Count  Dtype \n",
      "---  ------       --------------  ----- \n",
      " 0   name         50 non-null     object\n",
      " 1   years        50 non-null     object\n",
      " 2   genre        50 non-null     object\n",
      " 3   nationality  50 non-null     object\n",
      " 4   bio          50 non-null     object\n",
      " 5   wikipedia    50 non-null     object\n",
      " 6   paintings    50 non-null     int64 \n",
      "dtypes: int64(1), object(6)\n",
      "memory usage: 3.1+ KB\n"
     ]
    }
   ],
   "source": [
    "art.info()"
   ]
  },
  {
   "cell_type": "markdown",
   "id": "f11eeca5",
   "metadata": {},
   "source": [
    "**describe:** descripción simple del dataframe."
   ]
  },
  {
   "cell_type": "code",
   "execution_count": 7,
   "id": "0e757b31",
   "metadata": {},
   "outputs": [
    {
     "data": {
      "text/html": [
       "<div>\n",
       "<style scoped>\n",
       "    .dataframe tbody tr th:only-of-type {\n",
       "        vertical-align: middle;\n",
       "    }\n",
       "\n",
       "    .dataframe tbody tr th {\n",
       "        vertical-align: top;\n",
       "    }\n",
       "\n",
       "    .dataframe thead th {\n",
       "        text-align: right;\n",
       "    }\n",
       "</style>\n",
       "<table border=\"1\" class=\"dataframe\">\n",
       "  <thead>\n",
       "    <tr style=\"text-align: right;\">\n",
       "      <th></th>\n",
       "      <th>paintings</th>\n",
       "    </tr>\n",
       "  </thead>\n",
       "  <tbody>\n",
       "    <tr>\n",
       "      <th>count</th>\n",
       "      <td>50.000000</td>\n",
       "    </tr>\n",
       "    <tr>\n",
       "      <th>mean</th>\n",
       "      <td>168.920000</td>\n",
       "    </tr>\n",
       "    <tr>\n",
       "      <th>std</th>\n",
       "      <td>157.451105</td>\n",
       "    </tr>\n",
       "    <tr>\n",
       "      <th>min</th>\n",
       "      <td>24.000000</td>\n",
       "    </tr>\n",
       "    <tr>\n",
       "      <th>25%</th>\n",
       "      <td>81.000000</td>\n",
       "    </tr>\n",
       "    <tr>\n",
       "      <th>50%</th>\n",
       "      <td>123.000000</td>\n",
       "    </tr>\n",
       "    <tr>\n",
       "      <th>75%</th>\n",
       "      <td>191.750000</td>\n",
       "    </tr>\n",
       "    <tr>\n",
       "      <th>max</th>\n",
       "      <td>877.000000</td>\n",
       "    </tr>\n",
       "  </tbody>\n",
       "</table>\n",
       "</div>"
      ],
      "text/plain": [
       "        paintings\n",
       "count   50.000000\n",
       "mean   168.920000\n",
       "std    157.451105\n",
       "min     24.000000\n",
       "25%     81.000000\n",
       "50%    123.000000\n",
       "75%    191.750000\n",
       "max    877.000000"
      ]
     },
     "execution_count": 7,
     "metadata": {},
     "output_type": "execute_result"
    }
   ],
   "source": [
    "art.describe()"
   ]
  },
  {
   "cell_type": "markdown",
   "id": "724d4061",
   "metadata": {},
   "source": [
    "**isnull().sum():** nos devuelve la suma de valores que faltan en nuestro dataframe, detectando NaN o None."
   ]
  },
  {
   "cell_type": "code",
   "execution_count": 8,
   "id": "b235486d",
   "metadata": {},
   "outputs": [
    {
     "data": {
      "text/plain": [
       "name           0\n",
       "years          0\n",
       "genre          0\n",
       "nationality    0\n",
       "bio            0\n",
       "wikipedia      0\n",
       "paintings      0\n",
       "dtype: int64"
      ]
     },
     "execution_count": 8,
     "metadata": {},
     "output_type": "execute_result"
    }
   ],
   "source": [
    "art.isnull().sum()"
   ]
  },
  {
   "cell_type": "markdown",
   "id": "3686e07d",
   "metadata": {},
   "source": [
    "**dtypes:** tipos de datos en nuestro dataframe."
   ]
  },
  {
   "cell_type": "code",
   "execution_count": 10,
   "id": "680dee34",
   "metadata": {
    "scrolled": true
   },
   "outputs": [
    {
     "data": {
      "text/plain": [
       "name           object\n",
       "years          object\n",
       "genre          object\n",
       "nationality    object\n",
       "bio            object\n",
       "wikipedia      object\n",
       "paintings       int64\n",
       "dtype: object"
      ]
     },
     "execution_count": 10,
     "metadata": {},
     "output_type": "execute_result"
    }
   ],
   "source": [
    "art.dtypes"
   ]
  },
  {
   "cell_type": "markdown",
   "id": "2ca1bc29",
   "metadata": {},
   "source": [
    "2️⃣ **A continuación, procedemos a eliminar la información entre paréntesis que nos aporta la columna bio, debido a que es información repetida sobre fechas o sobre pronunciación, aspectos que no nos interesan.** De este modo, se puede apreciar la diferencia tras aplicar regex."
   ]
  },
  {
   "cell_type": "code",
   "execution_count": 11,
   "id": "e9e13ea3",
   "metadata": {},
   "outputs": [
    {
     "data": {
      "text/plain": [
       "'Diego María de la Concepción Juan Nepomuceno Estanislao de la Rivera y Barrientos Acosta y Rodríguez, known as Diego Rivera (Spanish pronunciation: [ˈdjeɣo riˈβeɾa]; December 8, 1886 – November 24, 1957) was a prominent Mexican painter. His large frescoes helped establish the Mexican mural movement in Mexican art. Between 1922 and 1953, Rivera painted murals in, among other places, Mexico City, Chapingo, Cuernavaca, San Francisco, Detroit, and New York City. In 1931, a retrospective exhibition of his works was held at the Museum of Modern Art in New York. Rivera had a volatile marriage with fellow Mexican artist Frida Kahlo.'"
      ]
     },
     "execution_count": 11,
     "metadata": {},
     "output_type": "execute_result"
    }
   ],
   "source": [
    "art['bio'][2]"
   ]
  },
  {
   "cell_type": "code",
   "execution_count": 12,
   "id": "c3e680e8",
   "metadata": {},
   "outputs": [],
   "source": [
    "art['bio'] = art['bio'].str.replace(r'\\(.*?\\)', '', regex = True)"
   ]
  },
  {
   "cell_type": "code",
   "execution_count": 13,
   "id": "cc9f9052",
   "metadata": {},
   "outputs": [
    {
     "data": {
      "text/plain": [
       "'Diego María de la Concepción Juan Nepomuceno Estanislao de la Rivera y Barrientos Acosta y Rodríguez, known as Diego Rivera  was a prominent Mexican painter. His large frescoes helped establish the Mexican mural movement in Mexican art. Between 1922 and 1953, Rivera painted murals in, among other places, Mexico City, Chapingo, Cuernavaca, San Francisco, Detroit, and New York City. In 1931, a retrospective exhibition of his works was held at the Museum of Modern Art in New York. Rivera had a volatile marriage with fellow Mexican artist Frida Kahlo.'"
      ]
     },
     "execution_count": 13,
     "metadata": {},
     "output_type": "execute_result"
    }
   ],
   "source": [
    "art['bio'][2]"
   ]
  },
  {
   "cell_type": "markdown",
   "id": "9330113e",
   "metadata": {},
   "source": [
    "3️⃣ **Por otro lado, obtenemos la fecha de nacimiento y muerte de los distintos artistas mediante regex, aplicándolo a la columna \n",
    "years del csv original.**"
   ]
  },
  {
   "cell_type": "code",
   "execution_count": 14,
   "id": "74c94940",
   "metadata": {},
   "outputs": [],
   "source": [
    "art['year_of_birth'] = art['years'].str.extract(r'^(\\d..\\d)')"
   ]
  },
  {
   "cell_type": "code",
   "execution_count": 15,
   "id": "5a0b8262",
   "metadata": {
    "scrolled": true
   },
   "outputs": [
    {
     "data": {
      "text/html": [
       "<div>\n",
       "<style scoped>\n",
       "    .dataframe tbody tr th:only-of-type {\n",
       "        vertical-align: middle;\n",
       "    }\n",
       "\n",
       "    .dataframe tbody tr th {\n",
       "        vertical-align: top;\n",
       "    }\n",
       "\n",
       "    .dataframe thead th {\n",
       "        text-align: right;\n",
       "    }\n",
       "</style>\n",
       "<table border=\"1\" class=\"dataframe\">\n",
       "  <thead>\n",
       "    <tr style=\"text-align: right;\">\n",
       "      <th></th>\n",
       "      <th>name</th>\n",
       "      <th>years</th>\n",
       "      <th>genre</th>\n",
       "      <th>nationality</th>\n",
       "      <th>bio</th>\n",
       "      <th>wikipedia</th>\n",
       "      <th>paintings</th>\n",
       "      <th>year_of_birth</th>\n",
       "    </tr>\n",
       "    <tr>\n",
       "      <th>id</th>\n",
       "      <th></th>\n",
       "      <th></th>\n",
       "      <th></th>\n",
       "      <th></th>\n",
       "      <th></th>\n",
       "      <th></th>\n",
       "      <th></th>\n",
       "      <th></th>\n",
       "    </tr>\n",
       "  </thead>\n",
       "  <tbody>\n",
       "    <tr>\n",
       "      <th>0</th>\n",
       "      <td>Amedeo Modigliani</td>\n",
       "      <td>1884 - 1920</td>\n",
       "      <td>Expressionism</td>\n",
       "      <td>Italian</td>\n",
       "      <td>Amedeo Clemente Modigliani  was an Italian Jew...</td>\n",
       "      <td>http://en.wikipedia.org/wiki/Amedeo_Modigliani</td>\n",
       "      <td>193</td>\n",
       "      <td>1884</td>\n",
       "    </tr>\n",
       "    <tr>\n",
       "      <th>1</th>\n",
       "      <td>Vasiliy Kandinskiy</td>\n",
       "      <td>1866 - 1944</td>\n",
       "      <td>Expressionism,Abstractionism</td>\n",
       "      <td>Russian</td>\n",
       "      <td>Wassily Wassilyevich Kandinsky   was a Russian...</td>\n",
       "      <td>http://en.wikipedia.org/wiki/Wassily_Kandinsky</td>\n",
       "      <td>88</td>\n",
       "      <td>1866</td>\n",
       "    </tr>\n",
       "  </tbody>\n",
       "</table>\n",
       "</div>"
      ],
      "text/plain": [
       "                  name        years                         genre nationality  \\\n",
       "id                                                                              \n",
       "0    Amedeo Modigliani  1884 - 1920                 Expressionism     Italian   \n",
       "1   Vasiliy Kandinskiy  1866 - 1944  Expressionism,Abstractionism     Russian   \n",
       "\n",
       "                                                  bio  \\\n",
       "id                                                      \n",
       "0   Amedeo Clemente Modigliani  was an Italian Jew...   \n",
       "1   Wassily Wassilyevich Kandinsky   was a Russian...   \n",
       "\n",
       "                                         wikipedia  paintings year_of_birth  \n",
       "id                                                                           \n",
       "0   http://en.wikipedia.org/wiki/Amedeo_Modigliani        193          1884  \n",
       "1   http://en.wikipedia.org/wiki/Wassily_Kandinsky         88          1866  "
      ]
     },
     "execution_count": 15,
     "metadata": {},
     "output_type": "execute_result"
    }
   ],
   "source": [
    "art.head(2)"
   ]
  },
  {
   "cell_type": "code",
   "execution_count": 16,
   "id": "f6a49d58",
   "metadata": {},
   "outputs": [],
   "source": [
    "art['year_of_death'] = art['years'].str.extract(r'(\\d..\\d)$')"
   ]
  },
  {
   "cell_type": "code",
   "execution_count": 17,
   "id": "cf44a620",
   "metadata": {
    "scrolled": true
   },
   "outputs": [
    {
     "data": {
      "text/html": [
       "<div>\n",
       "<style scoped>\n",
       "    .dataframe tbody tr th:only-of-type {\n",
       "        vertical-align: middle;\n",
       "    }\n",
       "\n",
       "    .dataframe tbody tr th {\n",
       "        vertical-align: top;\n",
       "    }\n",
       "\n",
       "    .dataframe thead th {\n",
       "        text-align: right;\n",
       "    }\n",
       "</style>\n",
       "<table border=\"1\" class=\"dataframe\">\n",
       "  <thead>\n",
       "    <tr style=\"text-align: right;\">\n",
       "      <th></th>\n",
       "      <th>name</th>\n",
       "      <th>years</th>\n",
       "      <th>genre</th>\n",
       "      <th>nationality</th>\n",
       "      <th>bio</th>\n",
       "      <th>wikipedia</th>\n",
       "      <th>paintings</th>\n",
       "      <th>year_of_birth</th>\n",
       "      <th>year_of_death</th>\n",
       "    </tr>\n",
       "    <tr>\n",
       "      <th>id</th>\n",
       "      <th></th>\n",
       "      <th></th>\n",
       "      <th></th>\n",
       "      <th></th>\n",
       "      <th></th>\n",
       "      <th></th>\n",
       "      <th></th>\n",
       "      <th></th>\n",
       "      <th></th>\n",
       "    </tr>\n",
       "  </thead>\n",
       "  <tbody>\n",
       "    <tr>\n",
       "      <th>0</th>\n",
       "      <td>Amedeo Modigliani</td>\n",
       "      <td>1884 - 1920</td>\n",
       "      <td>Expressionism</td>\n",
       "      <td>Italian</td>\n",
       "      <td>Amedeo Clemente Modigliani  was an Italian Jew...</td>\n",
       "      <td>http://en.wikipedia.org/wiki/Amedeo_Modigliani</td>\n",
       "      <td>193</td>\n",
       "      <td>1884</td>\n",
       "      <td>1920</td>\n",
       "    </tr>\n",
       "    <tr>\n",
       "      <th>1</th>\n",
       "      <td>Vasiliy Kandinskiy</td>\n",
       "      <td>1866 - 1944</td>\n",
       "      <td>Expressionism,Abstractionism</td>\n",
       "      <td>Russian</td>\n",
       "      <td>Wassily Wassilyevich Kandinsky   was a Russian...</td>\n",
       "      <td>http://en.wikipedia.org/wiki/Wassily_Kandinsky</td>\n",
       "      <td>88</td>\n",
       "      <td>1866</td>\n",
       "      <td>1944</td>\n",
       "    </tr>\n",
       "  </tbody>\n",
       "</table>\n",
       "</div>"
      ],
      "text/plain": [
       "                  name        years                         genre nationality  \\\n",
       "id                                                                              \n",
       "0    Amedeo Modigliani  1884 - 1920                 Expressionism     Italian   \n",
       "1   Vasiliy Kandinskiy  1866 - 1944  Expressionism,Abstractionism     Russian   \n",
       "\n",
       "                                                  bio  \\\n",
       "id                                                      \n",
       "0   Amedeo Clemente Modigliani  was an Italian Jew...   \n",
       "1   Wassily Wassilyevich Kandinsky   was a Russian...   \n",
       "\n",
       "                                         wikipedia  paintings year_of_birth  \\\n",
       "id                                                                            \n",
       "0   http://en.wikipedia.org/wiki/Amedeo_Modigliani        193          1884   \n",
       "1   http://en.wikipedia.org/wiki/Wassily_Kandinsky         88          1866   \n",
       "\n",
       "   year_of_death  \n",
       "id                \n",
       "0           1920  \n",
       "1           1944  "
      ]
     },
     "execution_count": 17,
     "metadata": {},
     "output_type": "execute_result"
    }
   ],
   "source": [
    "art.head(2)"
   ]
  },
  {
   "cell_type": "markdown",
   "id": "1910f0cf",
   "metadata": {},
   "source": [
    "4️⃣ **Posteriormente, ordeno los datos por fecha de nacimiento.**"
   ]
  },
  {
   "cell_type": "code",
   "execution_count": 18,
   "id": "2d51d6b5",
   "metadata": {
    "scrolled": false
   },
   "outputs": [
    {
     "data": {
      "text/html": [
       "<div>\n",
       "<style scoped>\n",
       "    .dataframe tbody tr th:only-of-type {\n",
       "        vertical-align: middle;\n",
       "    }\n",
       "\n",
       "    .dataframe tbody tr th {\n",
       "        vertical-align: top;\n",
       "    }\n",
       "\n",
       "    .dataframe thead th {\n",
       "        text-align: right;\n",
       "    }\n",
       "</style>\n",
       "<table border=\"1\" class=\"dataframe\">\n",
       "  <thead>\n",
       "    <tr style=\"text-align: right;\">\n",
       "      <th></th>\n",
       "      <th>name</th>\n",
       "      <th>years</th>\n",
       "      <th>genre</th>\n",
       "      <th>nationality</th>\n",
       "      <th>bio</th>\n",
       "      <th>wikipedia</th>\n",
       "      <th>paintings</th>\n",
       "      <th>year_of_birth</th>\n",
       "      <th>year_of_death</th>\n",
       "    </tr>\n",
       "    <tr>\n",
       "      <th>id</th>\n",
       "      <th></th>\n",
       "      <th></th>\n",
       "      <th></th>\n",
       "      <th></th>\n",
       "      <th></th>\n",
       "      <th></th>\n",
       "      <th></th>\n",
       "      <th></th>\n",
       "      <th></th>\n",
       "    </tr>\n",
       "  </thead>\n",
       "  <tbody>\n",
       "    <tr>\n",
       "      <th>23</th>\n",
       "      <td>Giotto di Bondone</td>\n",
       "      <td>1266 - 1337</td>\n",
       "      <td>Proto Renaissance</td>\n",
       "      <td>Italian</td>\n",
       "      <td>Giotto di Bondone , known mononymously as Giot...</td>\n",
       "      <td>http://en.wikipedia.org/wiki/Giotto_di_Bondone</td>\n",
       "      <td>119</td>\n",
       "      <td>1266</td>\n",
       "      <td>1337</td>\n",
       "    </tr>\n",
       "    <tr>\n",
       "      <th>7</th>\n",
       "      <td>Andrei Rublev</td>\n",
       "      <td>1360 - 1430</td>\n",
       "      <td>Byzantine Art</td>\n",
       "      <td>Russian</td>\n",
       "      <td>Andrei Rublev  is considered to be one of the ...</td>\n",
       "      <td>http://en.wikipedia.org/wiki/Andrei_Rublev</td>\n",
       "      <td>99</td>\n",
       "      <td>1360</td>\n",
       "      <td>1430</td>\n",
       "    </tr>\n",
       "  </tbody>\n",
       "</table>\n",
       "</div>"
      ],
      "text/plain": [
       "                 name        years              genre nationality  \\\n",
       "id                                                                  \n",
       "23  Giotto di Bondone  1266 - 1337  Proto Renaissance     Italian   \n",
       "7       Andrei Rublev  1360 - 1430      Byzantine Art     Russian   \n",
       "\n",
       "                                                  bio  \\\n",
       "id                                                      \n",
       "23  Giotto di Bondone , known mononymously as Giot...   \n",
       "7   Andrei Rublev  is considered to be one of the ...   \n",
       "\n",
       "                                         wikipedia  paintings year_of_birth  \\\n",
       "id                                                                            \n",
       "23  http://en.wikipedia.org/wiki/Giotto_di_Bondone        119          1266   \n",
       "7       http://en.wikipedia.org/wiki/Andrei_Rublev         99          1360   \n",
       "\n",
       "   year_of_death  \n",
       "id                \n",
       "23          1337  \n",
       "7           1430  "
      ]
     },
     "execution_count": 18,
     "metadata": {},
     "output_type": "execute_result"
    }
   ],
   "source": [
    "art.sort_values(by=['years']).head(2)"
   ]
  },
  {
   "cell_type": "markdown",
   "id": "88ac5d77",
   "metadata": {},
   "source": [
    "🔚 **Por último, guerdo el csv con los cambios realizados.**"
   ]
  },
  {
   "cell_type": "code",
   "execution_count": 19,
   "id": "dc16c270",
   "metadata": {},
   "outputs": [],
   "source": [
    "art.to_csv('../data/art.csv')"
   ]
  }
 ],
 "metadata": {
  "kernelspec": {
   "display_name": "Python 3 (ipykernel)",
   "language": "python",
   "name": "python3"
  },
  "language_info": {
   "codemirror_mode": {
    "name": "ipython",
    "version": 3
   },
   "file_extension": ".py",
   "mimetype": "text/x-python",
   "name": "python",
   "nbconvert_exporter": "python",
   "pygments_lexer": "ipython3",
   "version": "3.9.5"
  }
 },
 "nbformat": 4,
 "nbformat_minor": 5
}
